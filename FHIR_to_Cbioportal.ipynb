{
 "cells": [
  {
   "cell_type": "markdown",
   "id": "6912da54-06a4-44f6-9565-a5895098d02b",
   "metadata": {},
   "source": [
    "# 🔬Transforming Real-World Genomic Data from FHIR IG to cBioPortal for Precision Oncology\n"
   ]
  },
  {
   "cell_type": "markdown",
   "id": "b2d6e537-09ee-49d0-be75-37073060106c",
   "metadata": {},
   "source": [
    "# 🔬Transforming Genomic FHIR Data to cBioPortal-Compatible MAF Format\n",
    "## For Precision Oncology and Evidence Generation\n",
    "\n",
    "**Description:**\n",
    "This pipeline demonstrates how clinical genomics data structured via the HL7 FHIR Clinical Genomics Implementation Guide (IG) can be transformed into formats (MAF, MDAR, Meta files) comparable with integration to cBioPortal. Uploading the data to cBioPortal supports visualization, exploratory cohort analysis for precision oncology.\n",
    "---\n",
    "​\n",
    "## 📌 Section 1: Vision & Goals\n",
    "- Integrate real-world HL7 FHIR clinical genomics data based on Genomics IG to reseach field.\n",
    "- Support clinical decision-making with accessible molecular data.\n",
    "- Enable visualization and cohort exploration via cBioPortal.\n",
    "​\n",
    "---\n",
    "## 🧩 Section 2: Data Extraction\n",
    "### 🔌 Export CSV using internal tool based on FhirExtinguisher\n",
    "FhirExtinguisher is a lightweight web server application designed to facilitate data extraction from a FHIR server. It acts as an intermediary that receives query requests via HTTP and forwards them to a configured FHIR server. FhirExtinguisher simplifies access to FHIR resources by offering a controlled and potentially preprocessed interface for querying clinical and biomedical data.\n",
    "​\n",
    "Our internal application sending automated queries to extract clinical data (FhirPath expressions) to FhirExtinguisher (GET /Patient/1234/$everything). FhirExtinguisher forwards the request to the target FHIR server and extracts the necessary information. Our tool uses patient data extracted by FhirExtinguisher from FHIR server for generating 5 CSV files.\n",
    "​\n",
    "More details about : https://github.com/JohannesOehm/FhirExtinguisher \n",
    "### 🔌 Other options\n",
    "We also looked at other options to extract data from FHIR server:\n",
    "- `Direct connection to FHIR server via FHIR client libraries` :-  FHIR-PYrate,fhirclient. \n",
    "​\n",
    "More information about FHIR-PYrate: https://github.com/UMEssen/FHIR-PYrate. \n",
    "More information about fhirclient: https://pypi.org/project/fhirclient/\n",
    "- `FHIR JSON via REST API`:- For extracting properties from nested JSON we used \"code\" and \"system\" tags. \n",
    "```python\n",
    "import json\n",
    "​\n",
    "with open('data/raw/genomic_bundle.json') as f:\n",
    "    bundle = json.load(f)\n",
    "```\n",
    "​\n",
    "## 🧬 Section 3: Mapping FHIR to MAF\n",
    "1. Review MAF Format Specs (cols like Hugo_Symbol, Variant_Classification, Tumor_Sample_Barcode, etc.)\n",
    "2. Map LOINC codes: 81258-6, 69547-8, etc.\n",
    "3. Example of mapping table MAF (cBioPortal) to FHIR JSON Genomic mutations in Notion. \n",
    "​\n",
    "<center>\n",
    "    <img src=\"images/fhir_to_maf_mapping.png\" width=1200/>\n",
    "</center>"
   ]
  },
  {
   "cell_type": "markdown",
   "id": "71cca4aa-e076-4f5a-826b-48f5f027cc55",
   "metadata": {},
   "source": [
    "## 🧮 Section 4: Data Transformation Pipeline from FHIR to cBioPortal\n",
    "**Disclaimer:**\n",
    "The code below outlines how to transform CSV files (originally FHIR data) into formats (MAF, MDAR, Meta files) comparable with integration the Study to cBioPortal. It is created for inspiration and can be your starting point for your own implementation.\n",
    "---"
   ]
  },
  {
   "cell_type": "code",
   "execution_count": 990,
   "id": "f87e9e03-c949-4fb3-b43f-d51bdace696c",
   "metadata": {
    "tags": []
   },
   "outputs": [],
   "source": [
    "import numpy as np\n",
    "import os\n",
    "import pandas as pd\n",
    "from datetime import datetime\n",
    "from dateutil import parser\n",
    "from dateutil import parser\n",
    "from dateutil.relativedelta import relativedelta\n"
   ]
  },
  {
   "cell_type": "code",
   "execution_count": 991,
   "id": "b5c55258-ef8c-499f-9629-f72b13cbf4aa",
   "metadata": {
    "tags": []
   },
   "outputs": [],
   "source": [
    "longitudinal = pd.read_csv('data_source/longitudinal_test.csv')\n",
    "meta = pd.read_csv('data_source/meta_test.csv')\n",
    "molecular = pd.read_csv('data_source/molecular_test.csv')\n",
    "reasons = pd.read_csv('data_source/reasons_test.csv', delimiter=\",\")\n",
    "therapy = pd.read_csv('data_source/therapy_test.csv', delimiter=\",\")\n",
    "\n",
    "tables = [longitudinal, meta, molecular, reasons, therapy]"
   ]
  },
  {
   "cell_type": "markdown",
   "id": "04f18fee-7871-4efb-9bde-6d41c50484a1",
   "metadata": {},
   "source": [
    "### 🔌 Preprocessing of meta file"
   ]
  },
  {
   "cell_type": "code",
   "execution_count": 992,
   "id": "820ff065-af2e-496d-be5b-0f656278fbd9",
   "metadata": {
    "tags": []
   },
   "outputs": [
    {
     "data": {
      "text/html": [
       "<div>\n",
       "<style scoped>\n",
       "    .dataframe tbody tr th:only-of-type {\n",
       "        vertical-align: middle;\n",
       "    }\n",
       "\n",
       "    .dataframe tbody tr th {\n",
       "        vertical-align: top;\n",
       "    }\n",
       "\n",
       "    .dataframe thead th {\n",
       "        text-align: right;\n",
       "    }\n",
       "</style>\n",
       "<table border=\"1\" class=\"dataframe\">\n",
       "  <thead>\n",
       "    <tr style=\"text-align: right;\">\n",
       "      <th></th>\n",
       "      <th>PatientId</th>\n",
       "      <th>Birthdate</th>\n",
       "      <th>Gender</th>\n",
       "      <th>Indication</th>\n",
       "      <th>ICD10Code</th>\n",
       "      <th>DiagnosisName</th>\n",
       "      <th>Subtyp</th>\n",
       "      <th>DiseaseStatusDate</th>\n",
       "      <th>UICC</th>\n",
       "      <th>T</th>\n",
       "      <th>N</th>\n",
       "      <th>M</th>\n",
       "      <th>DiseaseStatus</th>\n",
       "      <th>ECOG</th>\n",
       "      <th>HER2</th>\n",
       "      <th>EBV</th>\n",
       "      <th>HPV</th>\n",
       "      <th>PDL1</th>\n",
       "      <th>PR</th>\n",
       "      <th>ER</th>\n",
       "      <th>MSI</th>\n",
       "      <th>HasGermlineMutation</th>\n",
       "      <th>Organization</th>\n",
       "      <th>HRD</th>\n",
       "      <th>TMB</th>\n",
       "      <th>TumorTissue</th>\n",
       "      <th>MTB_date</th>\n",
       "    </tr>\n",
       "  </thead>\n",
       "  <tbody>\n",
       "    <tr>\n",
       "      <th>0</th>\n",
       "      <td>8c52a4b0-fae9-4cd3-a4d6-97d850a4076a</td>\n",
       "      <td>1966</td>\n",
       "      <td>male</td>\n",
       "      <td>Patienten mit seltenen Tumorerkrankungen</td>\n",
       "      <td>C78.7</td>\n",
       "      <td>Secondary malignant neoplasm of liver and intr...</td>\n",
       "      <td>NaN</td>\n",
       "      <td>2022-04-01</td>\n",
       "      <td>okkult\"</td>\n",
       "      <td>T2a</td>\n",
       "      <td>N1</td>\n",
       "      <td>M0</td>\n",
       "      <td>Erstdiagnose</td>\n",
       "      <td>ECOG 1: (Einschränkung bei körperlicher Anstre...</td>\n",
       "      <td>NaN</td>\n",
       "      <td>NaN</td>\n",
       "      <td>NaN</td>\n",
       "      <td>NaN</td>\n",
       "      <td>NaN</td>\n",
       "      <td>NaN</td>\n",
       "      <td>NaN</td>\n",
       "      <td>NaN</td>\n",
       "      <td>klinikum</td>\n",
       "      <td>NaN</td>\n",
       "      <td>NaN</td>\n",
       "      <td>NaN</td>\n",
       "      <td>NaN</td>\n",
       "    </tr>\n",
       "    <tr>\n",
       "      <th>1</th>\n",
       "      <td>523f7133-1710-466e-8e2c-7d1ea78304c3</td>\n",
       "      <td>1939</td>\n",
       "      <td>female</td>\n",
       "      <td>Verdacht auf Hereditäre Tumorerkrankung</td>\n",
       "      <td>C56.2</td>\n",
       "      <td>Malignant neoplasm of ovary</td>\n",
       "      <td>Epithelialer Tumor</td>\n",
       "      <td>2021-03-26</td>\n",
       "      <td>III</td>\n",
       "      <td>T3</td>\n",
       "      <td>N0</td>\n",
       "      <td>M0</td>\n",
       "      <td>Progrediente Erkrankung</td>\n",
       "      <td>NaN</td>\n",
       "      <td>Unknown</td>\n",
       "      <td>Unknown</td>\n",
       "      <td>Unknown</td>\n",
       "      <td>Unknown</td>\n",
       "      <td>Unknown</td>\n",
       "      <td>Unknown</td>\n",
       "      <td>Unknown</td>\n",
       "      <td>No</td>\n",
       "      <td>klinikum</td>\n",
       "      <td>NaN</td>\n",
       "      <td>low</td>\n",
       "      <td>0.8</td>\n",
       "      <td>NaN</td>\n",
       "    </tr>\n",
       "    <tr>\n",
       "      <th>2</th>\n",
       "      <td>2b4aeb7c-c9e8-4c7f-9379-1f96f1b5d5cb</td>\n",
       "      <td>1980</td>\n",
       "      <td>female</td>\n",
       "      <td>Patient ohne weitere leitliniengerechte Therap...</td>\n",
       "      <td>C20</td>\n",
       "      <td>Malignant neoplasm of rectum</td>\n",
       "      <td>Karzinom</td>\n",
       "      <td>2021-12-01</td>\n",
       "      <td>IV</td>\n",
       "      <td>TX</td>\n",
       "      <td>Nx</td>\n",
       "      <td>M1</td>\n",
       "      <td>Stable Disease</td>\n",
       "      <td>ECOG 1: (Einschränkung bei körperlicher Anstre...</td>\n",
       "      <td>NaN</td>\n",
       "      <td>NaN</td>\n",
       "      <td>NaN</td>\n",
       "      <td>NaN</td>\n",
       "      <td>NaN</td>\n",
       "      <td>NaN</td>\n",
       "      <td>NaN</td>\n",
       "      <td>Yes</td>\n",
       "      <td>klinikum</td>\n",
       "      <td>NaN</td>\n",
       "      <td>NaN</td>\n",
       "      <td>NaN</td>\n",
       "      <td>NaN</td>\n",
       "    </tr>\n",
       "    <tr>\n",
       "      <th>3</th>\n",
       "      <td>3aa1c7fb-90b5-43e2-bc3f-68ed471af187</td>\n",
       "      <td>1955</td>\n",
       "      <td>female</td>\n",
       "      <td>Junges Erkrankungsalter bezogen auf Tumorentität</td>\n",
       "      <td>C15.9</td>\n",
       "      <td>Malignant neoplasm: Oesophagus, unspecified</td>\n",
       "      <td>Adenokarzinom</td>\n",
       "      <td>2022-02-01</td>\n",
       "      <td>IVA</td>\n",
       "      <td>T3</td>\n",
       "      <td>N0</td>\n",
       "      <td>M1</td>\n",
       "      <td>Progrediente Erkrankung</td>\n",
       "      <td>ECOG 0 (Normale</td>\n",
       "      <td>NaN</td>\n",
       "      <td>NaN</td>\n",
       "      <td>NaN</td>\n",
       "      <td>NaN</td>\n",
       "      <td>NaN</td>\n",
       "      <td>NaN</td>\n",
       "      <td>NaN</td>\n",
       "      <td>No</td>\n",
       "      <td>klinikum</td>\n",
       "      <td>NaN</td>\n",
       "      <td>NaN</td>\n",
       "      <td>NaN</td>\n",
       "      <td>NaN</td>\n",
       "    </tr>\n",
       "    <tr>\n",
       "      <th>4</th>\n",
       "      <td>ddf29229-8b1c-48df-bdd9-d97c6896d365</td>\n",
       "      <td>1941</td>\n",
       "      <td>male</td>\n",
       "      <td>Patient ohne weitere leitliniengerechte Therap...</td>\n",
       "      <td>C16.0</td>\n",
       "      <td>Malignant neoplasm: Cardia</td>\n",
       "      <td>Karzinom</td>\n",
       "      <td>2013-10-31</td>\n",
       "      <td>NaN</td>\n",
       "      <td>T3</td>\n",
       "      <td>N1</td>\n",
       "      <td>M0</td>\n",
       "      <td>Progrediente Erkrankung</td>\n",
       "      <td>ECOG 0 (Normale</td>\n",
       "      <td>NaN</td>\n",
       "      <td>NaN</td>\n",
       "      <td>NaN</td>\n",
       "      <td>NaN</td>\n",
       "      <td>NaN</td>\n",
       "      <td>NaN</td>\n",
       "      <td>NaN</td>\n",
       "      <td>Yes</td>\n",
       "      <td>klinikum</td>\n",
       "      <td>NaN</td>\n",
       "      <td>NaN</td>\n",
       "      <td>NaN</td>\n",
       "      <td>NaN</td>\n",
       "    </tr>\n",
       "  </tbody>\n",
       "</table>\n",
       "</div>"
      ],
      "text/plain": [
       "                               PatientId  Birthdate  Gender  \\\n",
       "0   8c52a4b0-fae9-4cd3-a4d6-97d850a4076a       1966    male   \n",
       "1  523f7133-1710-466e-8e2c-7d1ea78304c3        1939  female   \n",
       "2  2b4aeb7c-c9e8-4c7f-9379-1f96f1b5d5cb        1980  female   \n",
       "3   3aa1c7fb-90b5-43e2-bc3f-68ed471af187       1955  female   \n",
       "4  ddf29229-8b1c-48df-bdd9-d97c6896d365        1941    male   \n",
       "\n",
       "                                          Indication ICD10Code  \\\n",
       "0           Patienten mit seltenen Tumorerkrankungen     C78.7   \n",
       "1            Verdacht auf Hereditäre Tumorerkrankung     C56.2   \n",
       "2  Patient ohne weitere leitliniengerechte Therap...       C20   \n",
       "3   Junges Erkrankungsalter bezogen auf Tumorentität     C15.9   \n",
       "4  Patient ohne weitere leitliniengerechte Therap...     C16.0   \n",
       "\n",
       "                                       DiagnosisName              Subtyp  \\\n",
       "0  Secondary malignant neoplasm of liver and intr...                 NaN   \n",
       "1                        Malignant neoplasm of ovary  Epithelialer Tumor   \n",
       "2                       Malignant neoplasm of rectum            Karzinom   \n",
       "3        Malignant neoplasm: Oesophagus, unspecified       Adenokarzinom   \n",
       "4                         Malignant neoplasm: Cardia            Karzinom   \n",
       "\n",
       "  DiseaseStatusDate     UICC    T   N   M            DiseaseStatus  \\\n",
       "0        2022-04-01  okkult\"  T2a  N1  M0             Erstdiagnose   \n",
       "1        2021-03-26      III   T3  N0  M0  Progrediente Erkrankung   \n",
       "2        2021-12-01       IV   TX  Nx  M1           Stable Disease   \n",
       "3        2022-02-01      IVA   T3  N0  M1  Progrediente Erkrankung   \n",
       "4        2013-10-31      NaN   T3  N1  M0  Progrediente Erkrankung   \n",
       "\n",
       "                                                ECOG     HER2      EBV  \\\n",
       "0  ECOG 1: (Einschränkung bei körperlicher Anstre...      NaN      NaN   \n",
       "1                                                NaN  Unknown  Unknown   \n",
       "2  ECOG 1: (Einschränkung bei körperlicher Anstre...      NaN      NaN   \n",
       "3                                    ECOG 0 (Normale      NaN      NaN   \n",
       "4                                    ECOG 0 (Normale      NaN      NaN   \n",
       "\n",
       "       HPV     PDL1       PR       ER      MSI HasGermlineMutation  \\\n",
       "0      NaN      NaN      NaN      NaN      NaN                 NaN   \n",
       "1  Unknown  Unknown  Unknown  Unknown  Unknown                  No   \n",
       "2      NaN      NaN      NaN      NaN      NaN                 Yes   \n",
       "3      NaN      NaN      NaN      NaN      NaN                  No   \n",
       "4      NaN      NaN      NaN      NaN      NaN                 Yes   \n",
       "\n",
       "  Organization  HRD  TMB  TumorTissue  MTB_date  \n",
       "0    klinikum   NaN  NaN          NaN       NaN  \n",
       "1    klinikum   NaN  low          0.8       NaN  \n",
       "2    klinikum   NaN  NaN          NaN       NaN  \n",
       "3    klinikum   NaN  NaN          NaN       NaN  \n",
       "4    klinikum   NaN  NaN          NaN       NaN  "
      ]
     },
     "execution_count": 992,
     "metadata": {},
     "output_type": "execute_result"
    }
   ],
   "source": [
    "# Function to standardize various date formats to 'YYYY-MM-DD'\n",
    "def standardize_date_format(date):\n",
    "    if pd.isnull(date):\n",
    "        return pd.NaT\n",
    "    try:\n",
    "        # Convert string and parse safely\n",
    "        date_parsed = parser.parse(str(date), default=pd.Timestamp('2020-01-01'))\n",
    "        return date_parsed.date()\n",
    "    except Exception:\n",
    "        return pd.NaT\n",
    "\n",
    "meta['DiseaseStatusDate'] = meta['DiseaseStatusDate'].apply(standardize_date_format)\n",
    "meta['DiseaseStatusDate'] = pd.to_datetime(meta['DiseaseStatusDate'], errors='coerce')\n",
    "meta.head()"
   ]
  },
  {
   "cell_type": "code",
   "execution_count": 993,
   "id": "a750477d-8bc6-4d8b-964d-f3f3d9c758b8",
   "metadata": {
    "tags": []
   },
   "outputs": [],
   "source": [
    "meta['MTB_date'] = pd.to_datetime(meta['MTB_date'], errors='coerce')\n",
    "meta['MTB_date'] = meta['MTB_date'].apply(lambda x: x.strftime('%Y-%m-%d') if pd.notnull(x) else x)"
   ]
  },
  {
   "cell_type": "code",
   "execution_count": 994,
   "id": "fa4fdf33-1259-4a25-8106-ce4f9e869ba4",
   "metadata": {
    "tags": []
   },
   "outputs": [],
   "source": [
    "meta['MTB_date'] = pd.to_datetime(meta['MTB_date'], errors='coerce')\n",
    "meta['DiseaseStatusDate'] = pd.to_datetime(meta['DiseaseStatusDate'], errors='coerce')\n",
    "meta['MTB_days_after_diagnosis'] = (meta['MTB_date'] - meta['DiseaseStatusDate']).dt.days"
   ]
  },
  {
   "cell_type": "code",
   "execution_count": 995,
   "id": "add13a9c-6e64-486f-b37f-f77705e4b916",
   "metadata": {
    "tags": []
   },
   "outputs": [],
   "source": [
    "meta['MTB_days_after_diagnosis'] = meta['MTB_days_after_diagnosis'].fillna(0)"
   ]
  },
  {
   "cell_type": "code",
   "execution_count": 996,
   "id": "c85aae64-9eb1-438e-9753-0bd0e44ca1db",
   "metadata": {
    "tags": []
   },
   "outputs": [],
   "source": [
    "meta['MTB_days_after_diagnosis'] = meta['MTB_days_after_diagnosis'].astype(int)"
   ]
  },
  {
   "cell_type": "code",
   "execution_count": 997,
   "id": "f061fc69-c9fa-4363-bc32-1d267806cf81",
   "metadata": {
    "tags": []
   },
   "outputs": [],
   "source": [
    "meta.dropna(subset=['DiseaseStatusDate'], inplace=True)"
   ]
  },
  {
   "cell_type": "code",
   "execution_count": 998,
   "id": "a428d46c-e117-47b9-85a4-2f80c121f40d",
   "metadata": {
    "tags": []
   },
   "outputs": [
    {
     "data": {
      "text/html": [
       "<div>\n",
       "<style scoped>\n",
       "    .dataframe tbody tr th:only-of-type {\n",
       "        vertical-align: middle;\n",
       "    }\n",
       "\n",
       "    .dataframe tbody tr th {\n",
       "        vertical-align: top;\n",
       "    }\n",
       "\n",
       "    .dataframe thead th {\n",
       "        text-align: right;\n",
       "    }\n",
       "</style>\n",
       "<table border=\"1\" class=\"dataframe\">\n",
       "  <thead>\n",
       "    <tr style=\"text-align: right;\">\n",
       "      <th></th>\n",
       "      <th>id</th>\n",
       "      <th>PatientId</th>\n",
       "      <th>Gene</th>\n",
       "      <th>Location</th>\n",
       "      <th>Refgene</th>\n",
       "      <th>Type</th>\n",
       "      <th>DNAChangeType</th>\n",
       "      <th>c_HGVS</th>\n",
       "      <th>p_HGVS</th>\n",
       "      <th>TranscriptID</th>\n",
       "      <th>AllelicFrequency</th>\n",
       "      <th>AllelicReadDepth</th>\n",
       "      <th>Effect</th>\n",
       "      <th>DriverMutation</th>\n",
       "      <th>RefAllele</th>\n",
       "      <th>OldAllele</th>\n",
       "      <th>VariantExactStart</th>\n",
       "      <th>VariantExactEnd</th>\n",
       "      <th>lastUpdated</th>\n",
       "    </tr>\n",
       "  </thead>\n",
       "  <tbody>\n",
       "    <tr>\n",
       "      <th>0</th>\n",
       "      <td>43ab6b8a-bd05-4a77-ac44-7500574cfcb0</td>\n",
       "      <td>8c52a4b0-fae9-4cd3-a4d6-97d850a4076a</td>\n",
       "      <td>ABCC10</td>\n",
       "      <td>chr19</td>\n",
       "      <td>GRCh37</td>\n",
       "      <td>Somatic</td>\n",
       "      <td>SNV;missense_variant</td>\n",
       "      <td>weUDw0sg</td>\n",
       "      <td>RgYCG1K</td>\n",
       "      <td>NM_000400.4</td>\n",
       "      <td>0.0531</td>\n",
       "      <td>undefined</td>\n",
       "      <td>Ambiguous</td>\n",
       "      <td>Benign</td>\n",
       "      <td>G</td>\n",
       "      <td>T</td>\n",
       "      <td>45867689.0</td>\n",
       "      <td>45867689.0</td>\n",
       "      <td>2024-11-06T12:25:31.781+00:00</td>\n",
       "    </tr>\n",
       "    <tr>\n",
       "      <th>1</th>\n",
       "      <td>fb50560d-a799-43e3-8d81-288b1a801cc1</td>\n",
       "      <td>8c52a4b0-fae9-4cd3-a4d6-97d850a4076a</td>\n",
       "      <td>ABCB5</td>\n",
       "      <td>chr2</td>\n",
       "      <td>GRCh37</td>\n",
       "      <td>Somatic</td>\n",
       "      <td>SNV;missense_variant</td>\n",
       "      <td>wVCjbtcT9</td>\n",
       "      <td>uiBlad3</td>\n",
       "      <td>NM_003743.5</td>\n",
       "      <td>0.0543</td>\n",
       "      <td>undefined</td>\n",
       "      <td>Ambiguous</td>\n",
       "      <td>Benign</td>\n",
       "      <td>T</td>\n",
       "      <td>G</td>\n",
       "      <td>24951278.0</td>\n",
       "      <td>24951278.0</td>\n",
       "      <td>2024-11-06T12:25:31.781+00:00</td>\n",
       "    </tr>\n",
       "    <tr>\n",
       "      <th>2</th>\n",
       "      <td>25f8d9fe-ea35-42a9-b4e9-6e01eade27d1</td>\n",
       "      <td>8c52a4b0-fae9-4cd3-a4d6-97d850a4076a</td>\n",
       "      <td>ABHD16A</td>\n",
       "      <td>chr5</td>\n",
       "      <td>GRCh37</td>\n",
       "      <td>Somatic</td>\n",
       "      <td>SNV;upstream_gene_variant</td>\n",
       "      <td>2qRpfxf8E</td>\n",
       "      <td>vZa7h64</td>\n",
       "      <td>NM_198253.3</td>\n",
       "      <td>0.1538</td>\n",
       "      <td>undefined</td>\n",
       "      <td>Activating</td>\n",
       "      <td>Pathogenic</td>\n",
       "      <td>G</td>\n",
       "      <td>A</td>\n",
       "      <td>1295228.0</td>\n",
       "      <td>1295228.0</td>\n",
       "      <td>2024-11-06T12:25:31.781+00:00</td>\n",
       "    </tr>\n",
       "    <tr>\n",
       "      <th>3</th>\n",
       "      <td>ad39a8bc-2ae9-492e-b549-f7b0f6de1ee5</td>\n",
       "      <td>8c52a4b0-fae9-4cd3-a4d6-97d850a4076a</td>\n",
       "      <td>AASDHPPT</td>\n",
       "      <td>chr6</td>\n",
       "      <td>GRCh37</td>\n",
       "      <td>Somatic</td>\n",
       "      <td>SNV;missense_variant</td>\n",
       "      <td>Lacx4w2ut</td>\n",
       "      <td>6ZQU8yHw</td>\n",
       "      <td>NM_001374820.1</td>\n",
       "      <td>0.0677</td>\n",
       "      <td>undefined</td>\n",
       "      <td>Ambiguous</td>\n",
       "      <td>Benign</td>\n",
       "      <td>A</td>\n",
       "      <td>C</td>\n",
       "      <td>157527785.0</td>\n",
       "      <td>157527785.0</td>\n",
       "      <td>2024-11-06T12:25:31.781+00:00</td>\n",
       "    </tr>\n",
       "    <tr>\n",
       "      <th>4</th>\n",
       "      <td>c429ccd3-61a7-4212-807a-2b76e35d8bfa</td>\n",
       "      <td>8c52a4b0-fae9-4cd3-a4d6-97d850a4076a</td>\n",
       "      <td>ABCF3</td>\n",
       "      <td>chr13</td>\n",
       "      <td>GRCh37</td>\n",
       "      <td>Somatic</td>\n",
       "      <td>SNV;missense_variant</td>\n",
       "      <td>vK0s7Hn4</td>\n",
       "      <td>U7ttqmY</td>\n",
       "      <td>NM_006437.4</td>\n",
       "      <td>0.0866</td>\n",
       "      <td>undefined</td>\n",
       "      <td>Ambiguous</td>\n",
       "      <td>Benign</td>\n",
       "      <td>A</td>\n",
       "      <td>C</td>\n",
       "      <td>25074489.0</td>\n",
       "      <td>25074489.0</td>\n",
       "      <td>2024-11-06T12:25:31.781+00:00</td>\n",
       "    </tr>\n",
       "  </tbody>\n",
       "</table>\n",
       "</div>"
      ],
      "text/plain": [
       "                                     id                             PatientId  \\\n",
       "0  43ab6b8a-bd05-4a77-ac44-7500574cfcb0  8c52a4b0-fae9-4cd3-a4d6-97d850a4076a   \n",
       "1  fb50560d-a799-43e3-8d81-288b1a801cc1  8c52a4b0-fae9-4cd3-a4d6-97d850a4076a   \n",
       "2  25f8d9fe-ea35-42a9-b4e9-6e01eade27d1  8c52a4b0-fae9-4cd3-a4d6-97d850a4076a   \n",
       "3  ad39a8bc-2ae9-492e-b549-f7b0f6de1ee5  8c52a4b0-fae9-4cd3-a4d6-97d850a4076a   \n",
       "4  c429ccd3-61a7-4212-807a-2b76e35d8bfa  8c52a4b0-fae9-4cd3-a4d6-97d850a4076a   \n",
       "\n",
       "       Gene Location Refgene     Type              DNAChangeType     c_HGVS  \\\n",
       "0    ABCC10    chr19  GRCh37  Somatic       SNV;missense_variant   weUDw0sg   \n",
       "1     ABCB5     chr2  GRCh37  Somatic       SNV;missense_variant  wVCjbtcT9   \n",
       "2   ABHD16A     chr5  GRCh37  Somatic  SNV;upstream_gene_variant  2qRpfxf8E   \n",
       "3  AASDHPPT     chr6  GRCh37  Somatic       SNV;missense_variant  Lacx4w2ut   \n",
       "4     ABCF3    chr13  GRCh37  Somatic       SNV;missense_variant   vK0s7Hn4   \n",
       "\n",
       "     p_HGVS    TranscriptID  AllelicFrequency AllelicReadDepth      Effect  \\\n",
       "0   RgYCG1K     NM_000400.4            0.0531        undefined   Ambiguous   \n",
       "1   uiBlad3     NM_003743.5            0.0543        undefined   Ambiguous   \n",
       "2   vZa7h64     NM_198253.3            0.1538        undefined  Activating   \n",
       "3  6ZQU8yHw  NM_001374820.1            0.0677        undefined   Ambiguous   \n",
       "4   U7ttqmY     NM_006437.4            0.0866        undefined   Ambiguous   \n",
       "\n",
       "  DriverMutation RefAllele OldAllele  VariantExactStart  VariantExactEnd  \\\n",
       "0         Benign         G         T         45867689.0       45867689.0   \n",
       "1         Benign         T         G         24951278.0       24951278.0   \n",
       "2     Pathogenic         G         A          1295228.0        1295228.0   \n",
       "3         Benign         A         C        157527785.0      157527785.0   \n",
       "4         Benign         A         C         25074489.0       25074489.0   \n",
       "\n",
       "                     lastUpdated  \n",
       "0  2024-11-06T12:25:31.781+00:00  \n",
       "1  2024-11-06T12:25:31.781+00:00  \n",
       "2  2024-11-06T12:25:31.781+00:00  \n",
       "3  2024-11-06T12:25:31.781+00:00  \n",
       "4  2024-11-06T12:25:31.781+00:00  "
      ]
     },
     "execution_count": 998,
     "metadata": {},
     "output_type": "execute_result"
    }
   ],
   "source": [
    "molecular.head()"
   ]
  },
  {
   "cell_type": "markdown",
   "id": "2212299d-00c5-4ba1-82f2-c0e72fa4a150",
   "metadata": {},
   "source": [
    "### DATA_PATIENT file structure"
   ]
  },
  {
   "cell_type": "code",
   "execution_count": 999,
   "id": "67ca829e-6b5c-47e2-aedf-829fc2e82818",
   "metadata": {
    "tags": []
   },
   "outputs": [],
   "source": [
    "data_patient = pd.DataFrame(columns=['PATIENT_ID',\n",
    "                                     'AGE',\n",
    "                                     'GENDER',\n",
    "                                     'INDICATION',\n",
    "                                     'DIAGNOSIS_DATE',\n",
    "                                     'ICD_10',\n",
    "                                     'OS_MONTHS',\n",
    "                                     'OS_STATUS',\n",
    "                                     'DSS_STATUS',\n",
    "                                     'UICC'\n",
    "                           ])"
   ]
  },
  {
   "cell_type": "code",
   "execution_count": 1000,
   "id": "f7390f98-d819-4dab-9f32-2a8bd0a1bc07",
   "metadata": {
    "tags": []
   },
   "outputs": [
    {
     "data": {
      "text/html": [
       "<div>\n",
       "<style scoped>\n",
       "    .dataframe tbody tr th:only-of-type {\n",
       "        vertical-align: middle;\n",
       "    }\n",
       "\n",
       "    .dataframe tbody tr th {\n",
       "        vertical-align: top;\n",
       "    }\n",
       "\n",
       "    .dataframe thead th {\n",
       "        text-align: right;\n",
       "    }\n",
       "</style>\n",
       "<table border=\"1\" class=\"dataframe\">\n",
       "  <thead>\n",
       "    <tr style=\"text-align: right;\">\n",
       "      <th></th>\n",
       "      <th>PATIENT_ID</th>\n",
       "      <th>AGE</th>\n",
       "      <th>GENDER</th>\n",
       "      <th>INDICATION</th>\n",
       "      <th>DIAGNOSIS_DATE</th>\n",
       "      <th>ICD_10</th>\n",
       "      <th>OS_MONTHS</th>\n",
       "      <th>OS_STATUS</th>\n",
       "      <th>DSS_STATUS</th>\n",
       "      <th>UICC</th>\n",
       "      <th>DFS_MONTHS</th>\n",
       "      <th>DFS_STATUS</th>\n",
       "    </tr>\n",
       "  </thead>\n",
       "  <tbody>\n",
       "    <tr>\n",
       "      <th>0</th>\n",
       "      <td>8c52a4b0-fae9-4cd3-a4d6-97d850a4076a</td>\n",
       "      <td>55</td>\n",
       "      <td>male</td>\n",
       "      <td>Patienten mit seltenen Tumorerkrankungen</td>\n",
       "      <td>2022-04-01</td>\n",
       "      <td>C78.7</td>\n",
       "      <td>38.0</td>\n",
       "      <td>0:LIVING</td>\n",
       "      <td>Erstdiagnose</td>\n",
       "      <td>okkult\"</td>\n",
       "      <td>38.0</td>\n",
       "      <td>1:Recurred/Progressed</td>\n",
       "    </tr>\n",
       "    <tr>\n",
       "      <th>1</th>\n",
       "      <td>523f7133-1710-466e-8e2c-7d1ea78304c3</td>\n",
       "      <td>55</td>\n",
       "      <td>female</td>\n",
       "      <td>Verdacht auf Hereditäre Tumorerkrankung</td>\n",
       "      <td>2021-03-26</td>\n",
       "      <td>C56.2</td>\n",
       "      <td>51.0</td>\n",
       "      <td>0:LIVING</td>\n",
       "      <td>Progrediente Erkrankung</td>\n",
       "      <td>III</td>\n",
       "      <td>51.0</td>\n",
       "      <td>1:Recurred/Progressed</td>\n",
       "    </tr>\n",
       "    <tr>\n",
       "      <th>2</th>\n",
       "      <td>2b4aeb7c-c9e8-4c7f-9379-1f96f1b5d5cb</td>\n",
       "      <td>55</td>\n",
       "      <td>female</td>\n",
       "      <td>Patient ohne weitere leitliniengerechte Therap...</td>\n",
       "      <td>2021-12-01</td>\n",
       "      <td>C20</td>\n",
       "      <td>42.0</td>\n",
       "      <td>0:LIVING</td>\n",
       "      <td>Stable Disease</td>\n",
       "      <td>IV</td>\n",
       "      <td>42.0</td>\n",
       "      <td>1:Recurred/Progressed</td>\n",
       "    </tr>\n",
       "    <tr>\n",
       "      <th>3</th>\n",
       "      <td>3aa1c7fb-90b5-43e2-bc3f-68ed471af187</td>\n",
       "      <td>55</td>\n",
       "      <td>female</td>\n",
       "      <td>Junges Erkrankungsalter bezogen auf Tumorentität</td>\n",
       "      <td>2022-02-01</td>\n",
       "      <td>C15.9</td>\n",
       "      <td>40.0</td>\n",
       "      <td>0:LIVING</td>\n",
       "      <td>Progrediente Erkrankung</td>\n",
       "      <td>IVA</td>\n",
       "      <td>40.0</td>\n",
       "      <td>1:Recurred/Progressed</td>\n",
       "    </tr>\n",
       "    <tr>\n",
       "      <th>4</th>\n",
       "      <td>ddf29229-8b1c-48df-bdd9-d97c6896d365</td>\n",
       "      <td>55</td>\n",
       "      <td>male</td>\n",
       "      <td>Patient ohne weitere leitliniengerechte Therap...</td>\n",
       "      <td>2013-10-31</td>\n",
       "      <td>C16.0</td>\n",
       "      <td>141.0</td>\n",
       "      <td>0:LIVING</td>\n",
       "      <td>Progrediente Erkrankung</td>\n",
       "      <td>NaN</td>\n",
       "      <td>141.0</td>\n",
       "      <td>1:Recurred/Progressed</td>\n",
       "    </tr>\n",
       "  </tbody>\n",
       "</table>\n",
       "</div>"
      ],
      "text/plain": [
       "                              PATIENT_ID  AGE  GENDER  \\\n",
       "0   8c52a4b0-fae9-4cd3-a4d6-97d850a4076a   55    male   \n",
       "1  523f7133-1710-466e-8e2c-7d1ea78304c3    55  female   \n",
       "2  2b4aeb7c-c9e8-4c7f-9379-1f96f1b5d5cb    55  female   \n",
       "3   3aa1c7fb-90b5-43e2-bc3f-68ed471af187   55  female   \n",
       "4  ddf29229-8b1c-48df-bdd9-d97c6896d365    55    male   \n",
       "\n",
       "                                          INDICATION DIAGNOSIS_DATE ICD_10  \\\n",
       "0           Patienten mit seltenen Tumorerkrankungen     2022-04-01  C78.7   \n",
       "1            Verdacht auf Hereditäre Tumorerkrankung     2021-03-26  C56.2   \n",
       "2  Patient ohne weitere leitliniengerechte Therap...     2021-12-01    C20   \n",
       "3   Junges Erkrankungsalter bezogen auf Tumorentität     2022-02-01  C15.9   \n",
       "4  Patient ohne weitere leitliniengerechte Therap...     2013-10-31  C16.0   \n",
       "\n",
       "   OS_MONTHS OS_STATUS               DSS_STATUS     UICC  DFS_MONTHS  \\\n",
       "0       38.0  0:LIVING             Erstdiagnose  okkult\"        38.0   \n",
       "1       51.0  0:LIVING  Progrediente Erkrankung      III        51.0   \n",
       "2       42.0  0:LIVING           Stable Disease       IV        42.0   \n",
       "3       40.0  0:LIVING  Progrediente Erkrankung      IVA        40.0   \n",
       "4      141.0  0:LIVING  Progrediente Erkrankung      NaN       141.0   \n",
       "\n",
       "              DFS_STATUS  \n",
       "0  1:Recurred/Progressed  \n",
       "1  1:Recurred/Progressed  \n",
       "2  1:Recurred/Progressed  \n",
       "3  1:Recurred/Progressed  \n",
       "4  1:Recurred/Progressed  "
      ]
     },
     "execution_count": 1000,
     "metadata": {},
     "output_type": "execute_result"
    }
   ],
   "source": [
    "def calculate_age(birth_date):\n",
    "    if pd.notnull(birth_date):\n",
    "        birth_date = pd.to_datetime(birth_date)\n",
    "        today = datetime.today()\n",
    "        return today.year - birth_date.year - ((today.month, today.day) < (birth_date.month, birth_date.day))\n",
    "    return None\n",
    "\n",
    "def calculate_os_months(onset_date, reference_date):\n",
    "    if pd.notnull(onset_date) and pd.notnull(reference_date):\n",
    "        onset_date = pd.to_datetime(onset_date)\n",
    "        reference_date = pd.to_datetime(reference_date)\n",
    "        delta = reference_date - onset_date\n",
    "        # Calculate months based on average 30 days per month\n",
    "        return round(delta.days / 30, 0)\n",
    "    return None\n",
    "\n",
    "def process_patient_data(patient_data):\n",
    "    data_patient['AGE'] = meta['Birthdate'].apply(calculate_age)\n",
    "    data_patient['PATIENT_ID'] = meta['PatientId']\n",
    "    data_patient['GENDER'] = meta['Gender']\n",
    "    data_patient['INDICATION'] = meta['Indication']\n",
    "    data_patient['DIAGNOSIS_DATE'] = meta['DiseaseStatusDate']\n",
    "    data_patient['OS_MONTHS'] = meta['DiseaseStatusDate'].apply(lambda x: calculate_os_months(x, datetime.today()))\n",
    "    data_patient['OS_STATUS'] ='0:LIVING'\n",
    "    data_patient['ICD_10'] =meta['ICD10Code']\n",
    "    data_patient['DSS_STATUS'] = meta['DiseaseStatus']\n",
    "    data_patient['UICC']=meta['UICC']\n",
    "    return data_patient\n",
    "data_patient = process_patient_data(meta)\n",
    "data_patient['DFS_MONTHS'] = data_patient['OS_MONTHS']\n",
    "data_patient['DFS_STATUS'] = '1:Recurred/Progressed'\n",
    "data_patient.head()"
   ]
  },
  {
   "cell_type": "code",
   "execution_count": 1001,
   "id": "1b19997d-79ea-4561-9a13-a738e0eab4f9",
   "metadata": {
    "tags": []
   },
   "outputs": [],
   "source": [
    "data_patient['OS_MONTHS']=data_patient['OS_MONTHS'].astype(int)\n",
    "data_patient['DFS_MONTHS']=data_patient['DFS_MONTHS'].astype(int)\n",
    "data_patient = data_patient.replace('\"', '', regex=True)"
   ]
  },
  {
   "cell_type": "markdown",
   "id": "a5d771cd-d452-42a1-9ed7-6eecc4116ce2",
   "metadata": {},
   "source": [
    "### DATA_SAMPLE file structure"
   ]
  },
  {
   "cell_type": "code",
   "execution_count": 1002,
   "id": "3cff0e83-e2b6-41ec-91a8-c0a813fca32f",
   "metadata": {
    "tags": []
   },
   "outputs": [],
   "source": [
    "data_sample =pd.DataFrame(columns=['SAMPLE_ID',\n",
    "                                   'PATIENT_ID',\n",
    "                                   'CANCER_TYPE_DETAILED',\n",
    "                                   'TISSUE_SOURCE_SITE',\n",
    "                                   'TUMOR_TISSUE',\n",
    "                                   'TUMOR_MOLECULAR_SUBTYPE',\n",
    "                                   'TMB','HRD','T','N','M','ECOG','HER2',\n",
    "                                   'EBV','HPV','PDL1','PR','ER','MSI',\n",
    "                                   'GERMLINE_MUTATION'\n",
    "                                   \n",
    "                           ])"
   ]
  },
  {
   "cell_type": "code",
   "execution_count": 1003,
   "id": "d640c6f0-5c51-4402-b52b-add371d729bb",
   "metadata": {
    "tags": []
   },
   "outputs": [
    {
     "data": {
      "text/html": [
       "<div>\n",
       "<style scoped>\n",
       "    .dataframe tbody tr th:only-of-type {\n",
       "        vertical-align: middle;\n",
       "    }\n",
       "\n",
       "    .dataframe tbody tr th {\n",
       "        vertical-align: top;\n",
       "    }\n",
       "\n",
       "    .dataframe thead th {\n",
       "        text-align: right;\n",
       "    }\n",
       "</style>\n",
       "<table border=\"1\" class=\"dataframe\">\n",
       "  <thead>\n",
       "    <tr style=\"text-align: right;\">\n",
       "      <th></th>\n",
       "      <th>SAMPLE_ID</th>\n",
       "      <th>PATIENT_ID</th>\n",
       "      <th>CANCER_TYPE_DETAILED</th>\n",
       "      <th>TISSUE_SOURCE_SITE</th>\n",
       "      <th>TUMOR_TISSUE</th>\n",
       "      <th>TUMOR_MOLECULAR_SUBTYPE</th>\n",
       "      <th>TMB</th>\n",
       "      <th>HRD</th>\n",
       "      <th>T</th>\n",
       "      <th>N</th>\n",
       "      <th>M</th>\n",
       "      <th>ECOG</th>\n",
       "      <th>HER2</th>\n",
       "      <th>EBV</th>\n",
       "      <th>HPV</th>\n",
       "      <th>PDL1</th>\n",
       "      <th>PR</th>\n",
       "      <th>ER</th>\n",
       "      <th>MSI</th>\n",
       "      <th>GERMLINE_MUTATION</th>\n",
       "    </tr>\n",
       "  </thead>\n",
       "  <tbody>\n",
       "    <tr>\n",
       "      <th>0</th>\n",
       "      <td>MOLIT-5679cb</td>\n",
       "      <td>8c52a4b0-fae9-4cd3-a4d6-97d850a4076a</td>\n",
       "      <td>Secondary malignant neoplasm of liver and intr...</td>\n",
       "      <td>klinikum</td>\n",
       "      <td>NaN</td>\n",
       "      <td>NaN</td>\n",
       "      <td>NaN</td>\n",
       "      <td>NaN</td>\n",
       "      <td>T2a</td>\n",
       "      <td>N1</td>\n",
       "      <td>M0</td>\n",
       "      <td>ECOG 1: (Einschränkung bei körperlicher Anstre...</td>\n",
       "      <td>NaN</td>\n",
       "      <td>NaN</td>\n",
       "      <td>NaN</td>\n",
       "      <td>NaN</td>\n",
       "      <td>NaN</td>\n",
       "      <td>NaN</td>\n",
       "      <td>NaN</td>\n",
       "      <td>NaN</td>\n",
       "    </tr>\n",
       "    <tr>\n",
       "      <th>1</th>\n",
       "      <td>MOLIT-e19430</td>\n",
       "      <td>523f7133-1710-466e-8e2c-7d1ea78304c3</td>\n",
       "      <td>Malignant neoplasm of ovary</td>\n",
       "      <td>klinikum</td>\n",
       "      <td>0.8</td>\n",
       "      <td>Epithelialer Tumor</td>\n",
       "      <td>low</td>\n",
       "      <td>NaN</td>\n",
       "      <td>T3</td>\n",
       "      <td>N0</td>\n",
       "      <td>M0</td>\n",
       "      <td>NaN</td>\n",
       "      <td>Unknown</td>\n",
       "      <td>Unknown</td>\n",
       "      <td>Unknown</td>\n",
       "      <td>Unknown</td>\n",
       "      <td>Unknown</td>\n",
       "      <td>Unknown</td>\n",
       "      <td>Unknown</td>\n",
       "      <td>No</td>\n",
       "    </tr>\n",
       "    <tr>\n",
       "      <th>2</th>\n",
       "      <td>MOLIT-8698a2</td>\n",
       "      <td>2b4aeb7c-c9e8-4c7f-9379-1f96f1b5d5cb</td>\n",
       "      <td>Malignant neoplasm of rectum</td>\n",
       "      <td>klinikum</td>\n",
       "      <td>NaN</td>\n",
       "      <td>Karzinom</td>\n",
       "      <td>NaN</td>\n",
       "      <td>NaN</td>\n",
       "      <td>TX</td>\n",
       "      <td>Nx</td>\n",
       "      <td>M1</td>\n",
       "      <td>ECOG 1: (Einschränkung bei körperlicher Anstre...</td>\n",
       "      <td>NaN</td>\n",
       "      <td>NaN</td>\n",
       "      <td>NaN</td>\n",
       "      <td>NaN</td>\n",
       "      <td>NaN</td>\n",
       "      <td>NaN</td>\n",
       "      <td>NaN</td>\n",
       "      <td>Yes</td>\n",
       "    </tr>\n",
       "    <tr>\n",
       "      <th>3</th>\n",
       "      <td>MOLIT-41ec0e</td>\n",
       "      <td>3aa1c7fb-90b5-43e2-bc3f-68ed471af187</td>\n",
       "      <td>Malignant neoplasm: Oesophagus, unspecified</td>\n",
       "      <td>klinikum</td>\n",
       "      <td>NaN</td>\n",
       "      <td>Adenokarzinom</td>\n",
       "      <td>NaN</td>\n",
       "      <td>NaN</td>\n",
       "      <td>T3</td>\n",
       "      <td>N0</td>\n",
       "      <td>M1</td>\n",
       "      <td>ECOG 0 (Normale</td>\n",
       "      <td>NaN</td>\n",
       "      <td>NaN</td>\n",
       "      <td>NaN</td>\n",
       "      <td>NaN</td>\n",
       "      <td>NaN</td>\n",
       "      <td>NaN</td>\n",
       "      <td>NaN</td>\n",
       "      <td>No</td>\n",
       "    </tr>\n",
       "    <tr>\n",
       "      <th>4</th>\n",
       "      <td>MOLIT-301348</td>\n",
       "      <td>ddf29229-8b1c-48df-bdd9-d97c6896d365</td>\n",
       "      <td>Malignant neoplasm: Cardia</td>\n",
       "      <td>klinikum</td>\n",
       "      <td>NaN</td>\n",
       "      <td>Karzinom</td>\n",
       "      <td>NaN</td>\n",
       "      <td>NaN</td>\n",
       "      <td>T3</td>\n",
       "      <td>N1</td>\n",
       "      <td>M0</td>\n",
       "      <td>ECOG 0 (Normale</td>\n",
       "      <td>NaN</td>\n",
       "      <td>NaN</td>\n",
       "      <td>NaN</td>\n",
       "      <td>NaN</td>\n",
       "      <td>NaN</td>\n",
       "      <td>NaN</td>\n",
       "      <td>NaN</td>\n",
       "      <td>Yes</td>\n",
       "    </tr>\n",
       "  </tbody>\n",
       "</table>\n",
       "</div>"
      ],
      "text/plain": [
       "      SAMPLE_ID                             PATIENT_ID  \\\n",
       "0  MOLIT-5679cb   8c52a4b0-fae9-4cd3-a4d6-97d850a4076a   \n",
       "1  MOLIT-e19430  523f7133-1710-466e-8e2c-7d1ea78304c3    \n",
       "2  MOLIT-8698a2  2b4aeb7c-c9e8-4c7f-9379-1f96f1b5d5cb    \n",
       "3  MOLIT-41ec0e   3aa1c7fb-90b5-43e2-bc3f-68ed471af187   \n",
       "4  MOLIT-301348  ddf29229-8b1c-48df-bdd9-d97c6896d365    \n",
       "\n",
       "                                CANCER_TYPE_DETAILED TISSUE_SOURCE_SITE  \\\n",
       "0  Secondary malignant neoplasm of liver and intr...          klinikum    \n",
       "1                        Malignant neoplasm of ovary          klinikum    \n",
       "2                       Malignant neoplasm of rectum          klinikum    \n",
       "3        Malignant neoplasm: Oesophagus, unspecified          klinikum    \n",
       "4                         Malignant neoplasm: Cardia          klinikum    \n",
       "\n",
       "   TUMOR_TISSUE TUMOR_MOLECULAR_SUBTYPE  TMB  HRD    T   N   M  \\\n",
       "0           NaN                     NaN  NaN  NaN  T2a  N1  M0   \n",
       "1           0.8      Epithelialer Tumor  low  NaN   T3  N0  M0   \n",
       "2           NaN                Karzinom  NaN  NaN   TX  Nx  M1   \n",
       "3           NaN           Adenokarzinom  NaN  NaN   T3  N0  M1   \n",
       "4           NaN                Karzinom  NaN  NaN   T3  N1  M0   \n",
       "\n",
       "                                                ECOG     HER2      EBV  \\\n",
       "0  ECOG 1: (Einschränkung bei körperlicher Anstre...      NaN      NaN   \n",
       "1                                                NaN  Unknown  Unknown   \n",
       "2  ECOG 1: (Einschränkung bei körperlicher Anstre...      NaN      NaN   \n",
       "3                                    ECOG 0 (Normale      NaN      NaN   \n",
       "4                                    ECOG 0 (Normale      NaN      NaN   \n",
       "\n",
       "       HPV     PDL1       PR       ER      MSI GERMLINE_MUTATION  \n",
       "0      NaN      NaN      NaN      NaN      NaN               NaN  \n",
       "1  Unknown  Unknown  Unknown  Unknown  Unknown                No  \n",
       "2      NaN      NaN      NaN      NaN      NaN               Yes  \n",
       "3      NaN      NaN      NaN      NaN      NaN                No  \n",
       "4      NaN      NaN      NaN      NaN      NaN               Yes  "
      ]
     },
     "execution_count": 1003,
     "metadata": {},
     "output_type": "execute_result"
    }
   ],
   "source": [
    "import hashlib\n",
    "def generate_sample_id(patient_id):\n",
    "    # Create a hash object and hash the Patient_id after converting it to a string\n",
    "    short_hash = hashlib.md5(str(patient_id).encode()).hexdigest()[:6]  # Taking first 6 characters for a short hash\n",
    "    return f\"MOLIT-{short_hash}\"\n",
    "\n",
    "def process_data_sample(sample_data):\n",
    "    data_sample['SAMPLE_ID'] = meta['PatientId'].apply(generate_sample_id)\n",
    "    data_sample['PATIENT_ID'] = meta['PatientId']\n",
    "    data_sample['CANCER_TYPE_DETAILED'] = meta['DiagnosisName']\n",
    "    data_sample['TUMOR_MOLECULAR_SUBTYPE'] = meta['Subtyp']\n",
    "    data_sample['TISSUE_SOURCE_SITE'] =meta['Organization']\n",
    "    data_sample['TUMOR_TISSUE'] = meta['TumorTissue']\n",
    "    data_sample['TMB'] = meta['TMB']\n",
    "    data_sample['HRD'] =meta['HRD']\n",
    "    data_sample['T']=meta['T']\n",
    "    data_sample['N']=meta['N']\n",
    "    data_sample['M']=meta['M']\n",
    "    data_sample['ECOG'] = meta['ECOG']\n",
    "    data_sample['HER2'] =meta['HER2']\n",
    "    data_sample['EBV']=meta['EBV']\n",
    "    data_sample['HPV']=meta['HPV']\n",
    "    data_sample['PDL1']=meta['PDL1']\n",
    "    data_sample['PR']=meta['PR']\n",
    "    data_sample['ER']=meta['ER']\n",
    "    data_sample['MSI']=meta['MSI']\n",
    "    data_sample['GERMLINE_MUTATION'] = meta['HasGermlineMutation']\n",
    "    return data_sample\n",
    "data_sample = process_data_sample(meta)\n",
    "data_sample.head()"
   ]
  },
  {
   "cell_type": "markdown",
   "id": "7a0a378a-53b1-4c89-a7e8-97aba2b63cbe",
   "metadata": {
    "tags": []
   },
   "source": [
    "### DATA_TIMELINE_STATUS file structure"
   ]
  },
  {
   "cell_type": "code",
   "execution_count": 1004,
   "id": "7457b331-2ee7-4d84-8f9b-dc35944321f6",
   "metadata": {
    "tags": []
   },
   "outputs": [],
   "source": [
    "data_status= pd.DataFrame(columns=['PATIENT_ID',\n",
    "                                   'EVENT_TYPE',\n",
    "                                   'EVENT_DETAILED',\n",
    "                                   'TREATMENT_TYPE',\n",
    "                                   'START_DATE',\n",
    "                                   'STOP_DATE',\n",
    "                                   'THERAPY_ONGOING',\n",
    "                                   'STATUS'\n",
    "                                   \n",
    "                           ])"
   ]
  },
  {
   "cell_type": "markdown",
   "id": "051737c0-4c5c-4a5a-a050-54b9bef8eb9a",
   "metadata": {},
   "source": [
    "### 1. Make statuses uniform(for meta and longitudinal):\n",
    "- `Progrediente Erkrankung`:--->Progressive Disease \n",
    "- `Erstdiagnose`:--->Initial Diagnosis\n",
    "- `Teilremission`:--->Partial Remission\n",
    "- `Vollremission`:--->Copmlete Remission\n",
    "- `Lokoregionaeres Rezidiv`:--->Locally Recurrent Malignant Neoplasm\n",
    "- `Neue Fernmetastasierung`:--->Site of New Distant Metastasis Tumor Event"
   ]
  },
  {
   "cell_type": "code",
   "execution_count": 1005,
   "id": "f989099c-f955-44a0-8f61-e44e733747f1",
   "metadata": {
    "tags": []
   },
   "outputs": [],
   "source": [
    "replace_map = {\n",
    "    'Progrediente Erkrankung': 'Progressive Disease',\n",
    "    'Erstdiagnose': 'Initial Diagnosis',\n",
    "    'Teilremission': 'Partial Remission',\n",
    "    'Vollremission': 'Complete Remission',\n",
    "    'Lokoregionaeres Rezidiv': 'Locally Recurrent Malignant Neoplasm',\n",
    "    'Neue Fernmetastasierung': 'Site of New Distant Metastasis Tumor Event'\n",
    "}\n",
    "\n",
    "longitudinal['Notes'] = longitudinal['Notes'].replace(replace_map)"
   ]
  },
  {
   "cell_type": "code",
   "execution_count": 1006,
   "id": "4c569c7a-e660-4665-a3bd-cb969b9fa6f8",
   "metadata": {
    "tags": []
   },
   "outputs": [],
   "source": [
    "meta['DiseaseStatus'] = meta['DiseaseStatus'].replace(replace_map)"
   ]
  },
  {
   "cell_type": "markdown",
   "id": "ad2dce00-d8bd-4e29-8474-d82abdd6197c",
   "metadata": {},
   "source": [
    "### 2. Set 'TherapyEnd' equal to 'TherapyStart' for rows where 'TherapyTypeProcedure' is 'Tumor Resection'"
   ]
  },
  {
   "cell_type": "code",
   "execution_count": 1007,
   "id": "f7532e42-eaba-41cb-8612-98f04aa79da9",
   "metadata": {
    "tags": []
   },
   "outputs": [],
   "source": [
    "longitudinal.loc[longitudinal['TherapyTypeProcedure'] == 'Tumor Resection', 'TherapyEnd'] = longitudinal['TherapyStart']"
   ]
  },
  {
   "cell_type": "markdown",
   "id": "be26c3f8-bdec-4392-8ffc-448cfb6e27f7",
   "metadata": {
    "tags": []
   },
   "source": [
    "### 3. Imputation of missing values for 'Therapy Type Procedure' with value \"Status\""
   ]
  },
  {
   "cell_type": "code",
   "execution_count": 1008,
   "id": "c8ffc415-ad34-4267-b225-35d341da8add",
   "metadata": {
    "tags": []
   },
   "outputs": [],
   "source": [
    "longitudinal['TherapyTypeProcedure'] = longitudinal['TherapyTypeProcedure'].fillna(\"STATUS\")"
   ]
  },
  {
   "cell_type": "markdown",
   "id": "44d28756-50dd-4fbb-8fe8-64fc2fc26d61",
   "metadata": {},
   "source": [
    "### 4. Convert dates format"
   ]
  },
  {
   "cell_type": "markdown",
   "id": "1e8b273b-b7b5-4d7e-ab3d-637760578c3d",
   "metadata": {},
   "source": [
    "### 🔌Generation 'meta' and 'TXT' files"
   ]
  },
  {
   "cell_type": "code",
   "execution_count": 1009,
   "id": "15fd506e-96cf-48b0-be72-d4fc7cea5906",
   "metadata": {
    "tags": []
   },
   "outputs": [],
   "source": [
    "current_dir = os.getcwd()\n",
    "\n",
    "folder_path = os.path.join(current_dir, 'MOLIT_data_project')\n",
    "folder_path_ = os.path.join(current_dir+\"/MOLIT_data_project\", 'case_lists')\n",
    "# Create the folder if it doesn't already exist\n",
    "os.makedirs(folder_path_, exist_ok=True)"
   ]
  },
  {
   "cell_type": "code",
   "execution_count": 1010,
   "id": "c9c22854-ecf3-4259-ac49-bd804d75db1e",
   "metadata": {
    "tags": []
   },
   "outputs": [
    {
     "data": {
      "text/html": [
       "<div>\n",
       "<style scoped>\n",
       "    .dataframe tbody tr th:only-of-type {\n",
       "        vertical-align: middle;\n",
       "    }\n",
       "\n",
       "    .dataframe tbody tr th {\n",
       "        vertical-align: top;\n",
       "    }\n",
       "\n",
       "    .dataframe thead th {\n",
       "        text-align: right;\n",
       "    }\n",
       "</style>\n",
       "<table border=\"1\" class=\"dataframe\">\n",
       "  <thead>\n",
       "    <tr style=\"text-align: right;\">\n",
       "      <th></th>\n",
       "      <th>id</th>\n",
       "      <th>PatientId</th>\n",
       "      <th>TherapyTypeProcedure</th>\n",
       "      <th>TherapyStart</th>\n",
       "      <th>TherapyEnd</th>\n",
       "      <th>Notes</th>\n",
       "      <th>START_MONTH</th>\n",
       "      <th>END_MONTH</th>\n",
       "      <th>START_DAYS</th>\n",
       "      <th>END_DAYS</th>\n",
       "    </tr>\n",
       "  </thead>\n",
       "  <tbody>\n",
       "    <tr>\n",
       "      <th>0</th>\n",
       "      <td>dd1c0cad-8c86-4364-90c6-4205cdf68ed0</td>\n",
       "      <td>8c52a4b0-fae9-4cd3-a4d6-97d850a4076a</td>\n",
       "      <td>Systemic therapy</td>\n",
       "      <td>2022-05-01</td>\n",
       "      <td>2022-06-01</td>\n",
       "      <td>Bevacizumab</td>\n",
       "      <td>1.0</td>\n",
       "      <td>2.0</td>\n",
       "      <td>30.44</td>\n",
       "      <td>60.88</td>\n",
       "    </tr>\n",
       "    <tr>\n",
       "      <th>1</th>\n",
       "      <td>a781a84d-06dd-41a1-8936-6d879e28b124</td>\n",
       "      <td>8c52a4b0-fae9-4cd3-a4d6-97d850a4076a</td>\n",
       "      <td>Systemic therapy</td>\n",
       "      <td>2022-05-01</td>\n",
       "      <td>2022-06-01</td>\n",
       "      <td>Atezolizumab</td>\n",
       "      <td>1.0</td>\n",
       "      <td>2.0</td>\n",
       "      <td>30.44</td>\n",
       "      <td>60.88</td>\n",
       "    </tr>\n",
       "    <tr>\n",
       "      <th>2</th>\n",
       "      <td>097781a2-9446-4acc-be7a-3139a82ebcec</td>\n",
       "      <td>8c52a4b0-fae9-4cd3-a4d6-97d850a4076a</td>\n",
       "      <td>Tumor Resection</td>\n",
       "      <td>2022-06-01</td>\n",
       "      <td>2022-06-01</td>\n",
       "      <td>cTACE</td>\n",
       "      <td>2.0</td>\n",
       "      <td>2.0</td>\n",
       "      <td>60.88</td>\n",
       "      <td>60.88</td>\n",
       "    </tr>\n",
       "    <tr>\n",
       "      <th>3</th>\n",
       "      <td>d3c0fd02-cf88-47cd-97c2-2988cb392b0e</td>\n",
       "      <td>523f7133-1710-466e-8e2c-7d1ea78304c3</td>\n",
       "      <td>STATUS</td>\n",
       "      <td>2022-09-01</td>\n",
       "      <td>2018-04-12</td>\n",
       "      <td>Initial Diagnosis</td>\n",
       "      <td>17.0</td>\n",
       "      <td>-35.0</td>\n",
       "      <td>517.48</td>\n",
       "      <td>-1065.40</td>\n",
       "    </tr>\n",
       "    <tr>\n",
       "      <th>4</th>\n",
       "      <td>4c6cad06-698a-4a43-9620-c73707a7e8dd</td>\n",
       "      <td>523f7133-1710-466e-8e2c-7d1ea78304c3</td>\n",
       "      <td>Tumor Resection</td>\n",
       "      <td>2022-09-01</td>\n",
       "      <td>2022-09-01</td>\n",
       "      <td>Probenentnahme durch Punktion einer großen Leb...</td>\n",
       "      <td>17.0</td>\n",
       "      <td>17.0</td>\n",
       "      <td>517.48</td>\n",
       "      <td>517.48</td>\n",
       "    </tr>\n",
       "  </tbody>\n",
       "</table>\n",
       "</div>"
      ],
      "text/plain": [
       "                                     id  \\\n",
       "0  dd1c0cad-8c86-4364-90c6-4205cdf68ed0   \n",
       "1  a781a84d-06dd-41a1-8936-6d879e28b124   \n",
       "2  097781a2-9446-4acc-be7a-3139a82ebcec   \n",
       "3  d3c0fd02-cf88-47cd-97c2-2988cb392b0e   \n",
       "4  4c6cad06-698a-4a43-9620-c73707a7e8dd   \n",
       "\n",
       "                               PatientId TherapyTypeProcedure TherapyStart  \\\n",
       "0   8c52a4b0-fae9-4cd3-a4d6-97d850a4076a     Systemic therapy   2022-05-01   \n",
       "1   8c52a4b0-fae9-4cd3-a4d6-97d850a4076a     Systemic therapy   2022-05-01   \n",
       "2   8c52a4b0-fae9-4cd3-a4d6-97d850a4076a      Tumor Resection   2022-06-01   \n",
       "3  523f7133-1710-466e-8e2c-7d1ea78304c3                STATUS   2022-09-01   \n",
       "4  523f7133-1710-466e-8e2c-7d1ea78304c3       Tumor Resection   2022-09-01   \n",
       "\n",
       "   TherapyEnd                                              Notes  START_MONTH  \\\n",
       "0  2022-06-01                                        Bevacizumab          1.0   \n",
       "1  2022-06-01                                       Atezolizumab          1.0   \n",
       "2  2022-06-01                                              cTACE          2.0   \n",
       "3  2018-04-12                                  Initial Diagnosis         17.0   \n",
       "4  2022-09-01  Probenentnahme durch Punktion einer großen Leb...         17.0   \n",
       "\n",
       "   END_MONTH  START_DAYS  END_DAYS  \n",
       "0        2.0       30.44     60.88  \n",
       "1        2.0       30.44     60.88  \n",
       "2        2.0       60.88     60.88  \n",
       "3      -35.0      517.48  -1065.40  \n",
       "4       17.0      517.48    517.48  "
      ]
     },
     "execution_count": 1010,
     "metadata": {},
     "output_type": "execute_result"
    }
   ],
   "source": [
    "# Function to standardize TherapyStart and TherapyEnd formats to 'YYYY-MM-DD'\n",
    "def standardize_therapy_date(date):\n",
    "    if pd.isnull(date):\n",
    "        return pd.NaT\n",
    "    date_str = str(date)\n",
    "    try:\n",
    "        # Parse date string with dateutil, fill missing parts with '2020-01-01'\n",
    "        parsed_date = parser.parse(date_str, default=pd.Timestamp('2020-01-01'))\n",
    "        return parsed_date.date()\n",
    "    except Exception:\n",
    "        return pd.NaT\n",
    "\n",
    "# Apply standardization to TherapyStart and TherapyEnd columns\n",
    "longitudinal['TherapyStart'] = longitudinal['TherapyStart'].apply(standardize_therapy_date)\n",
    "longitudinal['TherapyEnd'] = longitudinal['TherapyEnd'].apply(standardize_therapy_date)\n",
    "\n",
    "# Map PatientId to DiseaseStatusDate for quick lookup\n",
    "disease_status_dates = meta.set_index('PatientId')['DiseaseStatusDate'].to_dict()\n",
    "\n",
    "# Function to calculate the difference in months between two dates\n",
    "def months_diff(date1, date2):\n",
    "    if pd.isnull(date1) or pd.isnull(date2):\n",
    "        return None\n",
    "    rdelta = relativedelta(date1, date2)\n",
    "    return rdelta.years * 12 + rdelta.months\n",
    "\n",
    "# Calculate months from DiseaseStatusDate for TherapyStart and TherapyEnd\n",
    "def calculate_months_from_disease_start(row):\n",
    "    patient_id = row['PatientId']\n",
    "    disease_start = disease_status_dates.get(patient_id)\n",
    "    if pd.isnull(disease_start):\n",
    "        return None, None\n",
    "    \n",
    "    start_months = months_diff(row['TherapyStart'], disease_start)\n",
    "    end_months = months_diff(row['TherapyEnd'], disease_start)\n",
    "\n",
    "    return start_months, end_months\n",
    "\n",
    "# Apply the calculation across the dataframe and create new columns\n",
    "longitudinal[['START_MONTH', 'END_MONTH']] = longitudinal.apply(\n",
    "    lambda row: pd.Series(calculate_months_from_disease_start(row)), axis=1\n",
    ")\n",
    "\n",
    "# Convert months to days approximately\n",
    "longitudinal['START_DAYS'] = longitudinal['START_MONTH'] * 30.44\n",
    "longitudinal['END_DAYS'] = longitudinal['END_MONTH'] * 30.44\n",
    "longitudinal.head()"
   ]
  },
  {
   "cell_type": "code",
   "execution_count": 1011,
   "id": "c97b56fe-35be-4724-b71a-a2fac37ffc9c",
   "metadata": {
    "tags": []
   },
   "outputs": [],
   "source": [
    "longitudinal['START_DAYS'] = longitudinal['START_DAYS'].round()\n",
    "longitudinal['END_DAYS'] = longitudinal['END_DAYS'].round()"
   ]
  },
  {
   "cell_type": "code",
   "execution_count": 1012,
   "id": "7436370a-f7b0-4d3f-b1eb-701e98662d75",
   "metadata": {
    "tags": []
   },
   "outputs": [],
   "source": [
    "longitudinal['START_DAYS'] = longitudinal['START_DAYS'].fillna(0)\n",
    "longitudinal['END_DAYS'] = longitudinal['END_DAYS'].fillna(0)"
   ]
  },
  {
   "cell_type": "code",
   "execution_count": 1013,
   "id": "50ec648e-0a54-4d60-ab29-bbd62e771753",
   "metadata": {
    "tags": []
   },
   "outputs": [],
   "source": [
    "longitudinal['START_DAYS'] = longitudinal['START_DAYS'].astype(int)\n",
    "longitudinal['END_DAYS'] = longitudinal['END_DAYS'].astype(int)"
   ]
  },
  {
   "cell_type": "code",
   "execution_count": 1014,
   "id": "a11fac64-f142-4443-aec6-c9c38c515fcf",
   "metadata": {
    "tags": []
   },
   "outputs": [
    {
     "data": {
      "text/html": [
       "<div>\n",
       "<style scoped>\n",
       "    .dataframe tbody tr th:only-of-type {\n",
       "        vertical-align: middle;\n",
       "    }\n",
       "\n",
       "    .dataframe tbody tr th {\n",
       "        vertical-align: top;\n",
       "    }\n",
       "\n",
       "    .dataframe thead th {\n",
       "        text-align: right;\n",
       "    }\n",
       "</style>\n",
       "<table border=\"1\" class=\"dataframe\">\n",
       "  <thead>\n",
       "    <tr style=\"text-align: right;\">\n",
       "      <th></th>\n",
       "      <th>PATIENT_ID</th>\n",
       "      <th>EVENT_TYPE</th>\n",
       "      <th>EVENT_DETAILED</th>\n",
       "      <th>TREATMENT_TYPE</th>\n",
       "      <th>START_DATE</th>\n",
       "      <th>STOP_DATE</th>\n",
       "      <th>THERAPY_ONGOING</th>\n",
       "      <th>STATUS</th>\n",
       "    </tr>\n",
       "  </thead>\n",
       "  <tbody>\n",
       "    <tr>\n",
       "      <th>0</th>\n",
       "      <td>8c52a4b0-fae9-4cd3-a4d6-97d850a4076a</td>\n",
       "      <td>Treatment</td>\n",
       "      <td>Bevacizumab</td>\n",
       "      <td>Treatment</td>\n",
       "      <td>30</td>\n",
       "      <td>61</td>\n",
       "      <td>NO</td>\n",
       "      <td>.</td>\n",
       "    </tr>\n",
       "    <tr>\n",
       "      <th>1</th>\n",
       "      <td>8c52a4b0-fae9-4cd3-a4d6-97d850a4076a</td>\n",
       "      <td>Treatment</td>\n",
       "      <td>Atezolizumab</td>\n",
       "      <td>Treatment</td>\n",
       "      <td>30</td>\n",
       "      <td>61</td>\n",
       "      <td>NO</td>\n",
       "      <td>.</td>\n",
       "    </tr>\n",
       "    <tr>\n",
       "      <th>2</th>\n",
       "      <td>8c52a4b0-fae9-4cd3-a4d6-97d850a4076a</td>\n",
       "      <td>Surgery</td>\n",
       "      <td>cTACE</td>\n",
       "      <td>Surgery</td>\n",
       "      <td>61</td>\n",
       "      <td>61</td>\n",
       "      <td>NO</td>\n",
       "      <td>.</td>\n",
       "    </tr>\n",
       "    <tr>\n",
       "      <th>3</th>\n",
       "      <td>523f7133-1710-466e-8e2c-7d1ea78304c3</td>\n",
       "      <td>Status</td>\n",
       "      <td>Initial Diagnosis</td>\n",
       "      <td>Status</td>\n",
       "      <td>517</td>\n",
       "      <td>-1065</td>\n",
       "      <td>NO</td>\n",
       "      <td>Initial Diagnosis</td>\n",
       "    </tr>\n",
       "    <tr>\n",
       "      <th>4</th>\n",
       "      <td>523f7133-1710-466e-8e2c-7d1ea78304c3</td>\n",
       "      <td>Surgery</td>\n",
       "      <td>Probenentnahme durch Punktion einer großen Leb...</td>\n",
       "      <td>Surgery</td>\n",
       "      <td>517</td>\n",
       "      <td>517</td>\n",
       "      <td>NO</td>\n",
       "      <td>.</td>\n",
       "    </tr>\n",
       "  </tbody>\n",
       "</table>\n",
       "</div>"
      ],
      "text/plain": [
       "                              PATIENT_ID EVENT_TYPE  \\\n",
       "0   8c52a4b0-fae9-4cd3-a4d6-97d850a4076a  Treatment   \n",
       "1   8c52a4b0-fae9-4cd3-a4d6-97d850a4076a  Treatment   \n",
       "2   8c52a4b0-fae9-4cd3-a4d6-97d850a4076a    Surgery   \n",
       "3  523f7133-1710-466e-8e2c-7d1ea78304c3      Status   \n",
       "4  523f7133-1710-466e-8e2c-7d1ea78304c3     Surgery   \n",
       "\n",
       "                                      EVENT_DETAILED TREATMENT_TYPE  \\\n",
       "0                                        Bevacizumab      Treatment   \n",
       "1                                       Atezolizumab      Treatment   \n",
       "2                                              cTACE        Surgery   \n",
       "3                                  Initial Diagnosis         Status   \n",
       "4  Probenentnahme durch Punktion einer großen Leb...        Surgery   \n",
       "\n",
       "   START_DATE  STOP_DATE THERAPY_ONGOING             STATUS  \n",
       "0          30         61              NO                  .  \n",
       "1          30         61              NO                  .  \n",
       "2          61         61              NO                  .  \n",
       "3         517      -1065              NO  Initial Diagnosis  \n",
       "4         517        517              NO                  .  "
      ]
     },
     "execution_count": 1014,
     "metadata": {},
     "output_type": "execute_result"
    }
   ],
   "source": [
    "def therapy_status(end_days):\n",
    "    return 'NO' if end_days != 0 else 'YES'\n",
    "\n",
    "\n",
    "conditions = [\n",
    "    longitudinal['TherapyTypeProcedure'] == \"Systemic therapy\",\n",
    "    longitudinal['TherapyTypeProcedure'] == \"Tumor Resection\",\n",
    "    longitudinal['TherapyTypeProcedure'] == \"STATUS\",\n",
    "    longitudinal['TherapyTypeProcedure'] =='Radiation Therapy'\n",
    "]\n",
    "\n",
    "\n",
    "choices = ['Treatment', 'Surgery', 'Status','Treatment']\n",
    "choices_2 = [\"Medical Therapy\",\"Tumor Resection\",\".\", \"Radiation Therapy\"]\n",
    "# Create the EVENT_TYPE column based on the conditions and choices\n",
    "longitudinal['EVENT_TYPE'] = np.select(conditions, choices, default=np.nan)\n",
    "longitudinal['TREATMENT_TYPE'] = np.select(conditions, choices, default=np.nan)\n",
    "\n",
    "longitudinal['STATUS'] = np.where(\n",
    "    longitudinal['TherapyTypeProcedure'] == \"STATUS\",\n",
    "    longitudinal['Notes'],   \n",
    "    \".\"                     \n",
    ")\n",
    "\n",
    "def process_timeline_status_data(longitudinal):\n",
    "    data_status['PATIENT_ID'] = longitudinal['PatientId']\n",
    "    data_status['EVENT_TYPE']= longitudinal['EVENT_TYPE']\n",
    "    data_status['EVENT_DETAILED'] = longitudinal['Notes']\n",
    "    data_status['TREATMENT_TYPE'] = longitudinal['TREATMENT_TYPE']\n",
    "    data_status['STATUS']=longitudinal['STATUS']\n",
    "    data_status['START_DATE'] = longitudinal['START_DAYS']                       \n",
    "    data_status['STOP_DATE']= longitudinal['END_DAYS']                        \n",
    "    data_status['THERAPY_ONGOING'] = longitudinal['END_DAYS'].apply(therapy_status)                                                                                  \n",
    "   \n",
    "    return data_status\n",
    "data_status = process_timeline_status_data(longitudinal)\n",
    "data_status.head()"
   ]
  },
  {
   "cell_type": "code",
   "execution_count": 1015,
   "id": "3e28ae7c-ca66-4bdf-b1cc-a8253301d469",
   "metadata": {
    "tags": []
   },
   "outputs": [],
   "source": [
    "new_order = ['PATIENT_ID', 'START_DATE', 'STOP_DATE','EVENT_TYPE','TREATMENT_TYPE','EVENT_DETAILED','STATUS','THERAPY_ONGOING']\n",
    "data_status = data_status[new_order]"
   ]
  },
  {
   "cell_type": "code",
   "execution_count": 1016,
   "id": "6553794c-b4a8-4a13-80d5-f9849bdcd7c6",
   "metadata": {
    "tags": []
   },
   "outputs": [],
   "source": [
    "negative_end_date_rows = longitudinal[longitudinal['END_DAYS'] < 0]"
   ]
  },
  {
   "cell_type": "code",
   "execution_count": 1017,
   "id": "4c26ae8c-56ff-4267-b9e2-e7e3c84aee98",
   "metadata": {
    "tags": []
   },
   "outputs": [
    {
     "data": {
      "text/plain": [
       "array(['523f7133-1710-466e-8e2c-7d1ea78304c3 '], dtype=object)"
      ]
     },
     "execution_count": 1017,
     "metadata": {},
     "output_type": "execute_result"
    }
   ],
   "source": [
    "negative_end_date_rows['PatientId'].unique()"
   ]
  },
  {
   "cell_type": "markdown",
   "id": "d53a3b8c-4a16-4084-b255-719889cbd0d8",
   "metadata": {
    "tags": []
   },
   "source": [
    "### DATA_MUTATIONS file structure"
   ]
  },
  {
   "cell_type": "code",
   "execution_count": 1018,
   "id": "8facee0b-88f7-4913-ba54-42906023d792",
   "metadata": {
    "tags": []
   },
   "outputs": [],
   "source": [
    "data_mutations = molecular.copy()"
   ]
  },
  {
   "cell_type": "code",
   "execution_count": 1019,
   "id": "0622fd7d-af17-41dd-a883-69f9191dbf69",
   "metadata": {
    "tags": []
   },
   "outputs": [],
   "source": [
    "data_mutations=data_mutations.rename(columns={\"PatientId\": \"PATIENT_ID\", \n",
    "                               \"Gene\": \"Hugo_Symbol\",\n",
    "                              \"Location\": \"Chromosome\",\n",
    "                              \"Type\": \"Mutation_status\",\n",
    "                              \"TranscriptID\": \"Transcript_ID\",\n",
    "                              \"VariantExactStart\":\"Start_Position\",\n",
    "                              \"VariantExactEnd\":\"End_Position\",\n",
    "                              \"RefAllele\":\"Reference_Allele\"})"
   ]
  },
  {
   "cell_type": "code",
   "execution_count": 1020,
   "id": "86b01744-cc1e-4ecb-89f7-e15877e5b652",
   "metadata": {
    "tags": []
   },
   "outputs": [],
   "source": [
    "# Split the 'DNA change type' column into 'VARIANT_CLASS' and 'Consequence' columns\n",
    "data_mutations[['VARIANT_CLASS', 'Consequence']] = data_mutations['DNAChangeType'].str.split(';', expand=True)"
   ]
  },
  {
   "cell_type": "code",
   "execution_count": 1021,
   "id": "2c839b7f-fe5a-4166-868e-c8f23feb3ea4",
   "metadata": {
    "tags": []
   },
   "outputs": [],
   "source": [
    "data_mutations['Start_Position'] = data_mutations['Start_Position'].fillna(0)\n",
    "data_mutations['End_Position'] = data_mutations['End_Position'].fillna(0)"
   ]
  },
  {
   "cell_type": "code",
   "execution_count": 1022,
   "id": "0474c9d4-ad34-40e4-afa7-f00f32a88eec",
   "metadata": {
    "tags": []
   },
   "outputs": [],
   "source": [
    "data_mutations['Start_Position'] = data_mutations['Start_Position'].astype(int)"
   ]
  },
  {
   "cell_type": "code",
   "execution_count": 1023,
   "id": "b36515d5-775f-4978-81e0-ff097629f481",
   "metadata": {
    "tags": []
   },
   "outputs": [],
   "source": [
    "data_mutations = data_mutations.fillna(\".\")\n",
    "data_mutations = data_mutations.replace(\"undefined\", \".\")\n",
    "data_mutations = data_mutations.drop(['DNAChangeType', 'id'], axis=1)\n",
    "data_mutations['HGVSp_Short'] = data_mutations['p_HGVS'].str.extract(r'(p\\.[A-Za-z]+\\d+[A-Za-z]+)')"
   ]
  },
  {
   "cell_type": "code",
   "execution_count": 1024,
   "id": "ff3297b4-1fba-4d39-9c2b-6886dcc0f3c7",
   "metadata": {
    "tags": []
   },
   "outputs": [],
   "source": [
    "data_mutations['Start_Position'] = data_mutations['Start_Position'].fillna(0)\n",
    "data_mutations['End_Position'] = data_mutations['End_Position'].fillna(0)"
   ]
  },
  {
   "cell_type": "code",
   "execution_count": 1025,
   "id": "bc85cbbf-05e2-444b-bf0f-6a11b6fcb799",
   "metadata": {
    "tags": []
   },
   "outputs": [],
   "source": [
    "data_mutations['Tumor_Sample_Barcode'] = data_mutations['PATIENT_ID'].map(data_sample.set_index('PATIENT_ID')['SAMPLE_ID'])"
   ]
  },
  {
   "cell_type": "code",
   "execution_count": 1026,
   "id": "b554d03f-216d-4d14-9cbe-912c2619e732",
   "metadata": {
    "tags": []
   },
   "outputs": [],
   "source": [
    "rows_with_nan = data_mutations[data_mutations['Tumor_Sample_Barcode'].isna()]"
   ]
  },
  {
   "cell_type": "code",
   "execution_count": 1027,
   "id": "80661643-bf86-4d31-9f0f-105c626c2110",
   "metadata": {
    "tags": []
   },
   "outputs": [
    {
     "data": {
      "text/plain": [
       "7"
      ]
     },
     "execution_count": 1027,
     "metadata": {},
     "output_type": "execute_result"
    }
   ],
   "source": [
    "data_patient['PATIENT_ID'].nunique()"
   ]
  },
  {
   "cell_type": "code",
   "execution_count": 1028,
   "id": "8b03ff2f-3f29-4ab7-8866-9ba71aaa4831",
   "metadata": {
    "tags": []
   },
   "outputs": [],
   "source": [
    "data_mutations.dropna(subset=['Tumor_Sample_Barcode'], inplace=True)"
   ]
  },
  {
   "cell_type": "code",
   "execution_count": 1029,
   "id": "d7ebb15f-23d2-4997-935b-7739b4e58322",
   "metadata": {
    "tags": []
   },
   "outputs": [
    {
     "data": {
      "text/html": [
       "<div>\n",
       "<style scoped>\n",
       "    .dataframe tbody tr th:only-of-type {\n",
       "        vertical-align: middle;\n",
       "    }\n",
       "\n",
       "    .dataframe tbody tr th {\n",
       "        vertical-align: top;\n",
       "    }\n",
       "\n",
       "    .dataframe thead th {\n",
       "        text-align: right;\n",
       "    }\n",
       "</style>\n",
       "<table border=\"1\" class=\"dataframe\">\n",
       "  <thead>\n",
       "    <tr style=\"text-align: right;\">\n",
       "      <th></th>\n",
       "      <th>PATIENT_ID</th>\n",
       "      <th>Hugo_Symbol</th>\n",
       "      <th>Chromosome</th>\n",
       "      <th>Refgene</th>\n",
       "      <th>Mutation_status</th>\n",
       "      <th>c_HGVS</th>\n",
       "      <th>p_HGVS</th>\n",
       "      <th>Transcript_ID</th>\n",
       "      <th>AllelicFrequency</th>\n",
       "      <th>AllelicReadDepth</th>\n",
       "      <th>Effect</th>\n",
       "      <th>DriverMutation</th>\n",
       "      <th>Reference_Allele</th>\n",
       "      <th>OldAllele</th>\n",
       "      <th>Start_Position</th>\n",
       "      <th>End_Position</th>\n",
       "      <th>lastUpdated</th>\n",
       "      <th>VARIANT_CLASS</th>\n",
       "      <th>Consequence</th>\n",
       "      <th>HGVSp_Short</th>\n",
       "      <th>Tumor_Sample_Barcode</th>\n",
       "    </tr>\n",
       "  </thead>\n",
       "  <tbody>\n",
       "    <tr>\n",
       "      <th>0</th>\n",
       "      <td>8c52a4b0-fae9-4cd3-a4d6-97d850a4076a</td>\n",
       "      <td>ABCC10</td>\n",
       "      <td>chr19</td>\n",
       "      <td>GRCh37</td>\n",
       "      <td>Somatic</td>\n",
       "      <td>weUDw0sg</td>\n",
       "      <td>RgYCG1K</td>\n",
       "      <td>NM_000400.4</td>\n",
       "      <td>0.0531</td>\n",
       "      <td>.</td>\n",
       "      <td>Ambiguous</td>\n",
       "      <td>Benign</td>\n",
       "      <td>G</td>\n",
       "      <td>T</td>\n",
       "      <td>45867689</td>\n",
       "      <td>45867689.0</td>\n",
       "      <td>2024-11-06T12:25:31.781+00:00</td>\n",
       "      <td>SNV</td>\n",
       "      <td>missense_variant</td>\n",
       "      <td>NaN</td>\n",
       "      <td>MOLIT-5679cb</td>\n",
       "    </tr>\n",
       "    <tr>\n",
       "      <th>1</th>\n",
       "      <td>8c52a4b0-fae9-4cd3-a4d6-97d850a4076a</td>\n",
       "      <td>ABCB5</td>\n",
       "      <td>chr2</td>\n",
       "      <td>GRCh37</td>\n",
       "      <td>Somatic</td>\n",
       "      <td>wVCjbtcT9</td>\n",
       "      <td>uiBlad3</td>\n",
       "      <td>NM_003743.5</td>\n",
       "      <td>0.0543</td>\n",
       "      <td>.</td>\n",
       "      <td>Ambiguous</td>\n",
       "      <td>Benign</td>\n",
       "      <td>T</td>\n",
       "      <td>G</td>\n",
       "      <td>24951278</td>\n",
       "      <td>24951278.0</td>\n",
       "      <td>2024-11-06T12:25:31.781+00:00</td>\n",
       "      <td>SNV</td>\n",
       "      <td>missense_variant</td>\n",
       "      <td>NaN</td>\n",
       "      <td>MOLIT-5679cb</td>\n",
       "    </tr>\n",
       "    <tr>\n",
       "      <th>2</th>\n",
       "      <td>8c52a4b0-fae9-4cd3-a4d6-97d850a4076a</td>\n",
       "      <td>ABHD16A</td>\n",
       "      <td>chr5</td>\n",
       "      <td>GRCh37</td>\n",
       "      <td>Somatic</td>\n",
       "      <td>2qRpfxf8E</td>\n",
       "      <td>vZa7h64</td>\n",
       "      <td>NM_198253.3</td>\n",
       "      <td>0.1538</td>\n",
       "      <td>.</td>\n",
       "      <td>Activating</td>\n",
       "      <td>Pathogenic</td>\n",
       "      <td>G</td>\n",
       "      <td>A</td>\n",
       "      <td>1295228</td>\n",
       "      <td>1295228.0</td>\n",
       "      <td>2024-11-06T12:25:31.781+00:00</td>\n",
       "      <td>SNV</td>\n",
       "      <td>upstream_gene_variant</td>\n",
       "      <td>NaN</td>\n",
       "      <td>MOLIT-5679cb</td>\n",
       "    </tr>\n",
       "    <tr>\n",
       "      <th>3</th>\n",
       "      <td>8c52a4b0-fae9-4cd3-a4d6-97d850a4076a</td>\n",
       "      <td>AASDHPPT</td>\n",
       "      <td>chr6</td>\n",
       "      <td>GRCh37</td>\n",
       "      <td>Somatic</td>\n",
       "      <td>Lacx4w2ut</td>\n",
       "      <td>6ZQU8yHw</td>\n",
       "      <td>NM_001374820.1</td>\n",
       "      <td>0.0677</td>\n",
       "      <td>.</td>\n",
       "      <td>Ambiguous</td>\n",
       "      <td>Benign</td>\n",
       "      <td>A</td>\n",
       "      <td>C</td>\n",
       "      <td>157527785</td>\n",
       "      <td>157527785.0</td>\n",
       "      <td>2024-11-06T12:25:31.781+00:00</td>\n",
       "      <td>SNV</td>\n",
       "      <td>missense_variant</td>\n",
       "      <td>NaN</td>\n",
       "      <td>MOLIT-5679cb</td>\n",
       "    </tr>\n",
       "    <tr>\n",
       "      <th>4</th>\n",
       "      <td>8c52a4b0-fae9-4cd3-a4d6-97d850a4076a</td>\n",
       "      <td>ABCF3</td>\n",
       "      <td>chr13</td>\n",
       "      <td>GRCh37</td>\n",
       "      <td>Somatic</td>\n",
       "      <td>vK0s7Hn4</td>\n",
       "      <td>U7ttqmY</td>\n",
       "      <td>NM_006437.4</td>\n",
       "      <td>0.0866</td>\n",
       "      <td>.</td>\n",
       "      <td>Ambiguous</td>\n",
       "      <td>Benign</td>\n",
       "      <td>A</td>\n",
       "      <td>C</td>\n",
       "      <td>25074489</td>\n",
       "      <td>25074489.0</td>\n",
       "      <td>2024-11-06T12:25:31.781+00:00</td>\n",
       "      <td>SNV</td>\n",
       "      <td>missense_variant</td>\n",
       "      <td>NaN</td>\n",
       "      <td>MOLIT-5679cb</td>\n",
       "    </tr>\n",
       "  </tbody>\n",
       "</table>\n",
       "</div>"
      ],
      "text/plain": [
       "                             PATIENT_ID Hugo_Symbol Chromosome Refgene  \\\n",
       "0  8c52a4b0-fae9-4cd3-a4d6-97d850a4076a      ABCC10      chr19  GRCh37   \n",
       "1  8c52a4b0-fae9-4cd3-a4d6-97d850a4076a       ABCB5       chr2  GRCh37   \n",
       "2  8c52a4b0-fae9-4cd3-a4d6-97d850a4076a     ABHD16A       chr5  GRCh37   \n",
       "3  8c52a4b0-fae9-4cd3-a4d6-97d850a4076a    AASDHPPT       chr6  GRCh37   \n",
       "4  8c52a4b0-fae9-4cd3-a4d6-97d850a4076a       ABCF3      chr13  GRCh37   \n",
       "\n",
       "  Mutation_status     c_HGVS    p_HGVS   Transcript_ID AllelicFrequency  \\\n",
       "0         Somatic   weUDw0sg   RgYCG1K     NM_000400.4           0.0531   \n",
       "1         Somatic  wVCjbtcT9   uiBlad3     NM_003743.5           0.0543   \n",
       "2         Somatic  2qRpfxf8E   vZa7h64     NM_198253.3           0.1538   \n",
       "3         Somatic  Lacx4w2ut  6ZQU8yHw  NM_001374820.1           0.0677   \n",
       "4         Somatic   vK0s7Hn4   U7ttqmY     NM_006437.4           0.0866   \n",
       "\n",
       "  AllelicReadDepth      Effect DriverMutation Reference_Allele OldAllele  \\\n",
       "0                .   Ambiguous         Benign                G         T   \n",
       "1                .   Ambiguous         Benign                T         G   \n",
       "2                .  Activating     Pathogenic                G         A   \n",
       "3                .   Ambiguous         Benign                A         C   \n",
       "4                .   Ambiguous         Benign                A         C   \n",
       "\n",
       "   Start_Position  End_Position                    lastUpdated VARIANT_CLASS  \\\n",
       "0        45867689    45867689.0  2024-11-06T12:25:31.781+00:00           SNV   \n",
       "1        24951278    24951278.0  2024-11-06T12:25:31.781+00:00           SNV   \n",
       "2         1295228     1295228.0  2024-11-06T12:25:31.781+00:00           SNV   \n",
       "3       157527785   157527785.0  2024-11-06T12:25:31.781+00:00           SNV   \n",
       "4        25074489    25074489.0  2024-11-06T12:25:31.781+00:00           SNV   \n",
       "\n",
       "             Consequence HGVSp_Short Tumor_Sample_Barcode  \n",
       "0       missense_variant         NaN         MOLIT-5679cb  \n",
       "1       missense_variant         NaN         MOLIT-5679cb  \n",
       "2  upstream_gene_variant         NaN         MOLIT-5679cb  \n",
       "3       missense_variant         NaN         MOLIT-5679cb  \n",
       "4       missense_variant         NaN         MOLIT-5679cb  "
      ]
     },
     "execution_count": 1029,
     "metadata": {},
     "output_type": "execute_result"
    }
   ],
   "source": [
    "data_mutations.head()"
   ]
  },
  {
   "cell_type": "code",
   "execution_count": 1030,
   "id": "a0b20b19-4463-439f-8391-5f15ed7c421e",
   "metadata": {
    "tags": []
   },
   "outputs": [],
   "source": [
    "data_mutations['Tumor_Seq_Allele1'] = '.'\n",
    "data_mutations['Tumor_Seq_Allele2'] = '.'\n",
    "data_mutations['Matched_Norm_Sample_Barcode'] = '.'\n",
    "data_mutations['Match_Norm_Seq_Allele1']= '.'\n",
    "data_mutations['Match_Norm_Seq_Allele2']= '.'\n",
    "data_mutations['Tumor_Validation_Allele1']= '.'\n",
    "data_mutations['Tumor_Validation_Allele2']= '.'\n",
    "data_mutations['Match_Norm_Validation_Allele1']= '.'\n",
    "data_mutations['Match_Norm_Validation_Allele2']= '.'\n",
    "data_mutations['Verification_Status']= '.'\n",
    "data_mutations['Validation_Status']= '.'\n",
    "data_mutations['Sequencing_Phase']= '.'\n",
    "data_mutations['Sequence_Source']= '.'\n",
    "data_mutations['Validation_Method']= '.'\n",
    "data_mutations['Score']= '.'\n",
    "data_mutations['BAM_File']= '.'\n",
    "data_mutations['Sequencer']= '.'\n",
    "data_mutations['Tumor_Sample_UUID']= '.'\n",
    "data_mutations['Matched_Norm_Sample_UUID']= '.'\n",
    "data_mutations['SWISSPROT'] = 'HUMAN'\n",
    "data_mutations['Variant_Classification']= '.'"
   ]
  },
  {
   "cell_type": "code",
   "execution_count": 1031,
   "id": "30a4cb1c-6377-4157-bd86-f3c517b788a7",
   "metadata": {
    "tags": []
   },
   "outputs": [],
   "source": [
    "data_mutations = data_mutations.drop(columns=['PATIENT_ID'])"
   ]
  },
  {
   "cell_type": "markdown",
   "id": "782123b8-ec03-4131-b2a2-63f3534f5846",
   "metadata": {
    "tags": []
   },
   "source": [
    "### Data recommendations (data_clinical_treatment_recommendation.txt) file structure"
   ]
  },
  {
   "cell_type": "code",
   "execution_count": 1032,
   "id": "61a3bfad-4f69-41c4-86ec-7edf9c77dd02",
   "metadata": {
    "tags": []
   },
   "outputs": [],
   "source": [
    "data_recommendations = therapy.copy()"
   ]
  },
  {
   "cell_type": "code",
   "execution_count": 1033,
   "id": "a6b2e5ef-cca4-414c-be66-fb2c49113bd7",
   "metadata": {
    "tags": []
   },
   "outputs": [
    {
     "data": {
      "text/html": [
       "<div>\n",
       "<style scoped>\n",
       "    .dataframe tbody tr th:only-of-type {\n",
       "        vertical-align: middle;\n",
       "    }\n",
       "\n",
       "    .dataframe tbody tr th {\n",
       "        vertical-align: top;\n",
       "    }\n",
       "\n",
       "    .dataframe thead th {\n",
       "        text-align: right;\n",
       "    }\n",
       "</style>\n",
       "<table border=\"1\" class=\"dataframe\">\n",
       "  <thead>\n",
       "    <tr style=\"text-align: right;\">\n",
       "      <th></th>\n",
       "      <th>PatientId</th>\n",
       "      <th>Id</th>\n",
       "      <th>orderNumber</th>\n",
       "      <th>MedicationCode</th>\n",
       "      <th>MedicationName</th>\n",
       "      <th>DiseaseStatusCodeAtRecommendation</th>\n",
       "      <th>DiseaseStatusAtRecommendation</th>\n",
       "      <th>RecommendedUseCode</th>\n",
       "      <th>RecommendedUse</th>\n",
       "      <th>evidenceCode</th>\n",
       "      <th>evidenceLevel</th>\n",
       "      <th>reasonId</th>\n",
       "    </tr>\n",
       "  </thead>\n",
       "  <tbody>\n",
       "    <tr>\n",
       "      <th>0</th>\n",
       "      <td>8c52a4b0-fae9-4cd3-a4d6-97d850a4076a</td>\n",
       "      <td>bacd886f-f223-46b9-8ba7-32497ff65f5a</td>\n",
       "      <td>1</td>\n",
       "      <td>NaN</td>\n",
       "      <td>NaN</td>\n",
       "      <td>C35571</td>\n",
       "      <td>Progressive Disease</td>\n",
       "      <td>C28237</td>\n",
       "      <td>Clinical Practice Guidelines</td>\n",
       "      <td>NaN</td>\n",
       "      <td>NaN</td>\n",
       "      <td>db0d0</td>\n",
       "    </tr>\n",
       "    <tr>\n",
       "      <th>1</th>\n",
       "      <td>523f7133-1710-466e-8e2c-7d1ea78304c3</td>\n",
       "      <td>bacd886f-f223-46b9-8ba7-32497ff65f5a</td>\n",
       "      <td>2</td>\n",
       "      <td>L01XK01</td>\n",
       "      <td>Olaparib</td>\n",
       "      <td>C18058</td>\n",
       "      <td>Partial Remission</td>\n",
       "      <td>C125600</td>\n",
       "      <td>Off-Label Treatment</td>\n",
       "      <td>NaN</td>\n",
       "      <td>NaN</td>\n",
       "      <td>efe1c</td>\n",
       "    </tr>\n",
       "    <tr>\n",
       "      <th>2</th>\n",
       "      <td>2b4aeb7c-c9e8-4c7f-9379-1f96f1b5d5cb</td>\n",
       "      <td>68fc147e-73b6-4f5e-b882-3b88f5be9bee</td>\n",
       "      <td>1</td>\n",
       "      <td>L01XC41</td>\n",
       "      <td>Trastuzumab deruxtecan</td>\n",
       "      <td>C35571</td>\n",
       "      <td>Progressive Disease</td>\n",
       "      <td>C125600</td>\n",
       "      <td>Off-Label Treatment</td>\n",
       "      <td>m2B</td>\n",
       "      <td>In einer anderen Tumorentität wurde der prädik...</td>\n",
       "      <td>202d1</td>\n",
       "    </tr>\n",
       "    <tr>\n",
       "      <th>3</th>\n",
       "      <td>2b4aeb7c-c9e8-4c7f-9379-1f96f1b5d5cb</td>\n",
       "      <td>68fc147e-73b6-4f5e-b882-3b88f5be9bee</td>\n",
       "      <td>1</td>\n",
       "      <td>L01XC14</td>\n",
       "      <td>Trastuzumab emtansin</td>\n",
       "      <td>C35571</td>\n",
       "      <td>Progressive Disease</td>\n",
       "      <td>C71104</td>\n",
       "      <td>Clinical Trial</td>\n",
       "      <td>NaN</td>\n",
       "      <td>NaN</td>\n",
       "      <td>1eb33</td>\n",
       "    </tr>\n",
       "    <tr>\n",
       "      <th>4</th>\n",
       "      <td>2b4aeb7c-c9e8-4c7f-9379-1f96f1b5d5cb</td>\n",
       "      <td>68fc147e-73b6-4f5e-b882-3b88f5be9bee</td>\n",
       "      <td>2</td>\n",
       "      <td>L01EM03</td>\n",
       "      <td>Alpelisib</td>\n",
       "      <td>C35571</td>\n",
       "      <td>Progressive Disease</td>\n",
       "      <td>C125600</td>\n",
       "      <td>Off-Label Treatment</td>\n",
       "      <td>m2B</td>\n",
       "      <td>In einer anderen Tumorentität wurde der prädik...</td>\n",
       "      <td>faa1f</td>\n",
       "    </tr>\n",
       "  </tbody>\n",
       "</table>\n",
       "</div>"
      ],
      "text/plain": [
       "                               PatientId  \\\n",
       "0   8c52a4b0-fae9-4cd3-a4d6-97d850a4076a   \n",
       "1  523f7133-1710-466e-8e2c-7d1ea78304c3    \n",
       "2  2b4aeb7c-c9e8-4c7f-9379-1f96f1b5d5cb    \n",
       "3  2b4aeb7c-c9e8-4c7f-9379-1f96f1b5d5cb    \n",
       "4  2b4aeb7c-c9e8-4c7f-9379-1f96f1b5d5cb    \n",
       "\n",
       "                                     Id  orderNumber MedicationCode  \\\n",
       "0  bacd886f-f223-46b9-8ba7-32497ff65f5a            1            NaN   \n",
       "1  bacd886f-f223-46b9-8ba7-32497ff65f5a            2        L01XK01   \n",
       "2  68fc147e-73b6-4f5e-b882-3b88f5be9bee            1        L01XC41   \n",
       "3  68fc147e-73b6-4f5e-b882-3b88f5be9bee            1        L01XC14   \n",
       "4  68fc147e-73b6-4f5e-b882-3b88f5be9bee            2        L01EM03   \n",
       "\n",
       "           MedicationName DiseaseStatusCodeAtRecommendation  \\\n",
       "0                     NaN                            C35571   \n",
       "1                Olaparib                            C18058   \n",
       "2  Trastuzumab deruxtecan                            C35571   \n",
       "3    Trastuzumab emtansin                            C35571   \n",
       "4               Alpelisib                            C35571   \n",
       "\n",
       "  DiseaseStatusAtRecommendation RecommendedUseCode  \\\n",
       "0           Progressive Disease             C28237   \n",
       "1             Partial Remission            C125600   \n",
       "2           Progressive Disease            C125600   \n",
       "3           Progressive Disease             C71104   \n",
       "4           Progressive Disease            C125600   \n",
       "\n",
       "                 RecommendedUse evidenceCode  \\\n",
       "0  Clinical Practice Guidelines          NaN   \n",
       "1           Off-Label Treatment          NaN   \n",
       "2           Off-Label Treatment          m2B   \n",
       "3                Clinical Trial          NaN   \n",
       "4           Off-Label Treatment          m2B   \n",
       "\n",
       "                                       evidenceLevel reasonId  \n",
       "0                                                NaN    db0d0  \n",
       "1                                                NaN    efe1c  \n",
       "2  In einer anderen Tumorentität wurde der prädik...    202d1  \n",
       "3                                                NaN    1eb33  \n",
       "4  In einer anderen Tumorentität wurde der prädik...    faa1f  "
      ]
     },
     "execution_count": 1033,
     "metadata": {},
     "output_type": "execute_result"
    }
   ],
   "source": [
    "data_recommendations.head()"
   ]
  },
  {
   "cell_type": "code",
   "execution_count": 1034,
   "id": "ffbfe76a-e9c0-484c-b660-005d98cb19ec",
   "metadata": {
    "tags": []
   },
   "outputs": [],
   "source": [
    "data_recommendations=data_recommendations.rename(columns={\"PatientId\": \"PATIENT_ID\", \n",
    "                               \"MedicationName\": \"RECOMMENDED_MEDICATION\",\n",
    "                                \"MedicationCode\":\"MEDICATION_CODE\",\n",
    "                                \"orderNumber\": \"RECOMMENDATION_ORDER_NUMBER\",\n",
    "                                \"DiseaseStatusCodeAtRecommendation\": \"DISEASE_STATUS_CODE\",\n",
    "                                \"DiseaseStatusAtRecommendation\": \"DISEASE_STATUS_AT_RECOMMENDATION\",\n",
    "                                \"RecommendedUse\": \"EVIDENCE_LEVEL\",\n",
    "                                \"evidenceLevel\": 'EVIDENCE_LEVEL_DETAILED',\n",
    "                                \"evidenceCode\": \"EVIDENCE_CODE\",\n",
    "                                \"RecommendedUseCode\": \"CATEGORY\",\n",
    "                                 \"reasonId\": \"REASON_ID\"})"
   ]
  },
  {
   "cell_type": "code",
   "execution_count": 1035,
   "id": "84f63e41-a64f-4824-b4a8-ac3b856130db",
   "metadata": {
    "tags": []
   },
   "outputs": [],
   "source": [
    "data_recommendations = data_recommendations.fillna(\".\")\n",
    "data_recommendations = data_recommendations.replace(\"undefined\", \".\")\n",
    "data_recommendations = data_recommendations.drop(index=0)\n",
    "data_recommendations = data_recommendations.drop(['Id'], axis=1)"
   ]
  },
  {
   "cell_type": "code",
   "execution_count": 1036,
   "id": "fa71f845-3ff7-49c0-86de-a896a0f74570",
   "metadata": {
    "tags": []
   },
   "outputs": [
    {
     "data": {
      "text/html": [
       "<div>\n",
       "<style scoped>\n",
       "    .dataframe tbody tr th:only-of-type {\n",
       "        vertical-align: middle;\n",
       "    }\n",
       "\n",
       "    .dataframe tbody tr th {\n",
       "        vertical-align: top;\n",
       "    }\n",
       "\n",
       "    .dataframe thead th {\n",
       "        text-align: right;\n",
       "    }\n",
       "</style>\n",
       "<table border=\"1\" class=\"dataframe\">\n",
       "  <thead>\n",
       "    <tr style=\"text-align: right;\">\n",
       "      <th></th>\n",
       "      <th>PATIENT_ID</th>\n",
       "      <th>RECOMMENDATION_ORDER_NUMBER</th>\n",
       "      <th>MEDICATION_CODE</th>\n",
       "      <th>RECOMMENDED_MEDICATION</th>\n",
       "      <th>DISEASE_STATUS_CODE</th>\n",
       "      <th>DISEASE_STATUS_AT_RECOMMENDATION</th>\n",
       "      <th>CATEGORY</th>\n",
       "      <th>EVIDENCE_LEVEL</th>\n",
       "      <th>EVIDENCE_CODE</th>\n",
       "      <th>EVIDENCE_LEVEL_DETAILED</th>\n",
       "      <th>REASON_ID</th>\n",
       "    </tr>\n",
       "  </thead>\n",
       "  <tbody>\n",
       "    <tr>\n",
       "      <th>1</th>\n",
       "      <td>523f7133-1710-466e-8e2c-7d1ea78304c3</td>\n",
       "      <td>2</td>\n",
       "      <td>L01XK01</td>\n",
       "      <td>Olaparib</td>\n",
       "      <td>C18058</td>\n",
       "      <td>Partial Remission</td>\n",
       "      <td>C125600</td>\n",
       "      <td>Off-Label Treatment</td>\n",
       "      <td>.</td>\n",
       "      <td>.</td>\n",
       "      <td>efe1c</td>\n",
       "    </tr>\n",
       "    <tr>\n",
       "      <th>2</th>\n",
       "      <td>2b4aeb7c-c9e8-4c7f-9379-1f96f1b5d5cb</td>\n",
       "      <td>1</td>\n",
       "      <td>L01XC41</td>\n",
       "      <td>Trastuzumab deruxtecan</td>\n",
       "      <td>C35571</td>\n",
       "      <td>Progressive Disease</td>\n",
       "      <td>C125600</td>\n",
       "      <td>Off-Label Treatment</td>\n",
       "      <td>m2B</td>\n",
       "      <td>In einer anderen Tumorentität wurde der prädik...</td>\n",
       "      <td>202d1</td>\n",
       "    </tr>\n",
       "    <tr>\n",
       "      <th>3</th>\n",
       "      <td>2b4aeb7c-c9e8-4c7f-9379-1f96f1b5d5cb</td>\n",
       "      <td>1</td>\n",
       "      <td>L01XC14</td>\n",
       "      <td>Trastuzumab emtansin</td>\n",
       "      <td>C35571</td>\n",
       "      <td>Progressive Disease</td>\n",
       "      <td>C71104</td>\n",
       "      <td>Clinical Trial</td>\n",
       "      <td>.</td>\n",
       "      <td>.</td>\n",
       "      <td>1eb33</td>\n",
       "    </tr>\n",
       "    <tr>\n",
       "      <th>4</th>\n",
       "      <td>2b4aeb7c-c9e8-4c7f-9379-1f96f1b5d5cb</td>\n",
       "      <td>2</td>\n",
       "      <td>L01EM03</td>\n",
       "      <td>Alpelisib</td>\n",
       "      <td>C35571</td>\n",
       "      <td>Progressive Disease</td>\n",
       "      <td>C125600</td>\n",
       "      <td>Off-Label Treatment</td>\n",
       "      <td>m2B</td>\n",
       "      <td>In einer anderen Tumorentität wurde der prädik...</td>\n",
       "      <td>faa1f</td>\n",
       "    </tr>\n",
       "    <tr>\n",
       "      <th>5</th>\n",
       "      <td>523f7133-1710-466e-8e2c-7d1ea78304c3</td>\n",
       "      <td>1</td>\n",
       "      <td>L01XC06</td>\n",
       "      <td>Cetuximab</td>\n",
       "      <td>C35571</td>\n",
       "      <td>Progressive Disease</td>\n",
       "      <td>C28237</td>\n",
       "      <td>Clinical Practice Guidelines</td>\n",
       "      <td>.</td>\n",
       "      <td>.</td>\n",
       "      <td>0efe1</td>\n",
       "    </tr>\n",
       "  </tbody>\n",
       "</table>\n",
       "</div>"
      ],
      "text/plain": [
       "                              PATIENT_ID  RECOMMENDATION_ORDER_NUMBER  \\\n",
       "1  523f7133-1710-466e-8e2c-7d1ea78304c3                             2   \n",
       "2  2b4aeb7c-c9e8-4c7f-9379-1f96f1b5d5cb                             1   \n",
       "3  2b4aeb7c-c9e8-4c7f-9379-1f96f1b5d5cb                             1   \n",
       "4  2b4aeb7c-c9e8-4c7f-9379-1f96f1b5d5cb                             2   \n",
       "5  523f7133-1710-466e-8e2c-7d1ea78304c3                             1   \n",
       "\n",
       "  MEDICATION_CODE  RECOMMENDED_MEDICATION DISEASE_STATUS_CODE  \\\n",
       "1         L01XK01                Olaparib              C18058   \n",
       "2         L01XC41  Trastuzumab deruxtecan              C35571   \n",
       "3         L01XC14    Trastuzumab emtansin              C35571   \n",
       "4         L01EM03               Alpelisib              C35571   \n",
       "5         L01XC06               Cetuximab              C35571   \n",
       "\n",
       "  DISEASE_STATUS_AT_RECOMMENDATION CATEGORY                EVIDENCE_LEVEL  \\\n",
       "1                Partial Remission  C125600           Off-Label Treatment   \n",
       "2              Progressive Disease  C125600           Off-Label Treatment   \n",
       "3              Progressive Disease   C71104                Clinical Trial   \n",
       "4              Progressive Disease  C125600           Off-Label Treatment   \n",
       "5              Progressive Disease   C28237  Clinical Practice Guidelines   \n",
       "\n",
       "  EVIDENCE_CODE                            EVIDENCE_LEVEL_DETAILED REASON_ID  \n",
       "1             .                                                  .     efe1c  \n",
       "2           m2B  In einer anderen Tumorentität wurde der prädik...     202d1  \n",
       "3             .                                                  .     1eb33  \n",
       "4           m2B  In einer anderen Tumorentität wurde der prädik...     faa1f  \n",
       "5             .                                                  .     0efe1  "
      ]
     },
     "execution_count": 1036,
     "metadata": {},
     "output_type": "execute_result"
    }
   ],
   "source": [
    "data_recommendations.head()"
   ]
  },
  {
   "cell_type": "markdown",
   "id": "7776ce26-042f-4613-aa91-15a6b6af7124",
   "metadata": {},
   "source": [
    "### Data recommendation reasons file structure"
   ]
  },
  {
   "cell_type": "code",
   "execution_count": 1037,
   "id": "66bb4243-d7f1-481b-bc13-44cf44eae8aa",
   "metadata": {
    "tags": []
   },
   "outputs": [],
   "source": [
    "data_reasons = reasons.copy()"
   ]
  },
  {
   "cell_type": "code",
   "execution_count": 1038,
   "id": "ba675f5f-571f-4156-8eeb-eec7f40e7efe",
   "metadata": {
    "tags": []
   },
   "outputs": [
    {
     "data": {
      "text/plain": [
       "array([nan])"
      ]
     },
     "execution_count": 1038,
     "metadata": {},
     "output_type": "execute_result"
    }
   ],
   "source": [
    "data_reasons['comments'].unique()"
   ]
  },
  {
   "cell_type": "code",
   "execution_count": 1039,
   "id": "0bd352f8-b5bf-4505-ab20-c1535bfb935c",
   "metadata": {
    "tags": []
   },
   "outputs": [],
   "source": [
    "data_reasons=data_reasons.rename(columns={\"MedicationName\": \"REASONS_MEDICATION\",\n",
    "                                               \"GeneticReason\": \"REASONS_GENETICS\",\n",
    "                                               \"therapyId\" :\"REASON_ID\",\n",
    "                                                \"other\": \"REASONS_OTHER\",\n",
    "                                                 \"comments\": \"REASONS_COMMENTS\"})"
   ]
  },
  {
   "cell_type": "code",
   "execution_count": 1040,
   "id": "56a3f9c9-0fac-41bc-ada8-50e6d32f6b90",
   "metadata": {
    "tags": []
   },
   "outputs": [],
   "source": [
    "data_reasons = data_reasons.fillna(\".\")\n",
    "data_reasons = data_reasons.replace(\"undefined\", \".\")\n",
    "data_reasons = data_reasons.drop(['MedicationCode','reasonId'], axis=1)"
   ]
  },
  {
   "cell_type": "code",
   "execution_count": 1041,
   "id": "29783d87-1a6e-408a-9ca1-272a2b6f6562",
   "metadata": {
    "tags": []
   },
   "outputs": [
    {
     "data": {
      "text/html": [
       "<div>\n",
       "<style scoped>\n",
       "    .dataframe tbody tr th:only-of-type {\n",
       "        vertical-align: middle;\n",
       "    }\n",
       "\n",
       "    .dataframe tbody tr th {\n",
       "        vertical-align: top;\n",
       "    }\n",
       "\n",
       "    .dataframe thead th {\n",
       "        text-align: right;\n",
       "    }\n",
       "</style>\n",
       "<table border=\"1\" class=\"dataframe\">\n",
       "  <thead>\n",
       "    <tr style=\"text-align: right;\">\n",
       "      <th></th>\n",
       "      <th>REASON_ID</th>\n",
       "      <th>REASONS_MEDICATION</th>\n",
       "      <th>REASONS_OTHER</th>\n",
       "      <th>REASONS_GENETICS</th>\n",
       "      <th>REASONS_COMMENTS</th>\n",
       "    </tr>\n",
       "  </thead>\n",
       "  <tbody>\n",
       "    <tr>\n",
       "      <th>0</th>\n",
       "      <td>202d1</td>\n",
       "      <td>Trastuzumab</td>\n",
       "      <td>.</td>\n",
       "      <td>ERBB2 (SNV</td>\n",
       "      <td>.</td>\n",
       "    </tr>\n",
       "    <tr>\n",
       "      <th>1</th>\n",
       "      <td>1eb33</td>\n",
       "      <td>Trastuzumab</td>\n",
       "      <td>.</td>\n",
       "      <td>ERBB2 (SNV</td>\n",
       "      <td>.</td>\n",
       "    </tr>\n",
       "    <tr>\n",
       "      <th>2</th>\n",
       "      <td>faa1f</td>\n",
       "      <td>Alpelisib</td>\n",
       "      <td>.</td>\n",
       "      <td>PIK3CA (SNV</td>\n",
       "      <td>.</td>\n",
       "    </tr>\n",
       "    <tr>\n",
       "      <th>3</th>\n",
       "      <td>e1bea</td>\n",
       "      <td>Trastuzumab</td>\n",
       "      <td>.</td>\n",
       "      <td>ERBB2 (SNV</td>\n",
       "      <td>.</td>\n",
       "    </tr>\n",
       "    <tr>\n",
       "      <th>4</th>\n",
       "      <td>0efe1</td>\n",
       "      <td>Pembrolizumab</td>\n",
       "      <td>.</td>\n",
       "      <td>ARID1A (SNV</td>\n",
       "      <td>.</td>\n",
       "    </tr>\n",
       "  </tbody>\n",
       "</table>\n",
       "</div>"
      ],
      "text/plain": [
       "  REASON_ID REASONS_MEDICATION REASONS_OTHER REASONS_GENETICS REASONS_COMMENTS\n",
       "0     202d1       Trastuzumab              .       ERBB2 (SNV                .\n",
       "1     1eb33        Trastuzumab             .       ERBB2 (SNV                .\n",
       "2     faa1f          Alpelisib             .      PIK3CA (SNV                .\n",
       "3     e1bea       Trastuzumab              .       ERBB2 (SNV                .\n",
       "4     0efe1      Pembrolizumab             .      ARID1A (SNV                ."
      ]
     },
     "execution_count": 1041,
     "metadata": {},
     "output_type": "execute_result"
    }
   ],
   "source": [
    "data_reasons.head()"
   ]
  },
  {
   "cell_type": "code",
   "execution_count": 1042,
   "id": "3677a5f8-c0c1-4f95-b669-40b9d0a4cf9f",
   "metadata": {
    "tags": []
   },
   "outputs": [],
   "source": [
    "data_recommendations = pd.merge(data_recommendations, data_reasons, on='REASON_ID', how='inner')"
   ]
  },
  {
   "cell_type": "markdown",
   "id": "f93ad8a4-d6ce-4f45-8939-8b61aa397c96",
   "metadata": {},
   "source": [
    "### Creating data status timeline (using recommendations and reasoning)"
   ]
  },
  {
   "cell_type": "code",
   "execution_count": 1043,
   "id": "577cfa80-edf7-48f5-bdd8-93cc1021d4db",
   "metadata": {
    "tags": []
   },
   "outputs": [],
   "source": [
    "new_rows = pd.DataFrame({\n",
    "    'PATIENT_ID': data_recommendations['PATIENT_ID'],\n",
    "    'EVENT_TYPE': 'Recommendation',  \n",
    "    'TREATMENT_TYPE': 'Treatment',  \n",
    "    'EVENT_DETAILED': data_recommendations['RECOMMENDED_MEDICATION'],\n",
    "    'STATUS': '.',  # Constant value\n",
    "    'THERAPY_ONGOING': 'NO',  # Constant value\n",
    "    'EVIDENCE_LEVEL': data_recommendations['EVIDENCE_LEVEL'],\n",
    "    'REASONS_GENETICS': data_recommendations['REASONS_GENETICS'],\n",
    "    'REASONS_MEDICATION': data_recommendations['REASONS_MEDICATION'],\n",
    "    'RECOMMENDATION_ORDER_NUMBER':data_recommendations['RECOMMENDATION_ORDER_NUMBER'],\n",
    "    'START_DATE': '.',  \n",
    "    'STOP_DATE': '.'    \n",
    "})\n",
    "\n",
    "# Merge new_rows with meta to get 'MTB_days_after_diagnosis' for each patient\n",
    "new_rows = new_rows.merge(meta[['PatientId', 'MTB_days_after_diagnosis']], \n",
    "                          left_on='PATIENT_ID', \n",
    "                          right_on='PatientId', \n",
    "                          how='left')\n",
    "\n",
    "# Use 'MTB_days_after_diagnosis' to populate 'START_DATE' and 'STOP_DATE'\n",
    "new_rows['START_DATE'] = new_rows['MTB_days_after_diagnosis']\n",
    "new_rows['STOP_DATE'] = new_rows['MTB_days_after_diagnosis']\n",
    "\n",
    "# Drop the temporary 'PatientId' and 'MTB_days_after_diagnosis' columns after merging\n",
    "new_rows.drop(columns=['PatientId', 'MTB_days_after_diagnosis'], inplace=True)\n",
    "\n",
    "# Ensure the columns from new_rows that don't already exist in data_status are added\n",
    "for col in new_rows.columns:\n",
    "    if col not in data_status.columns:\n",
    "        data_status[col] = '.' \n",
    "\n",
    "# Add the new rows to data_status, keeping existing records and adding the new ones\n",
    "data_status = pd.concat([data_status, new_rows], ignore_index=True)"
   ]
  },
  {
   "cell_type": "code",
   "execution_count": 1044,
   "id": "3c4c5f0b-0800-4841-bd28-66ede269f2ba",
   "metadata": {
    "tags": []
   },
   "outputs": [
    {
     "data": {
      "text/html": [
       "<div>\n",
       "<style scoped>\n",
       "    .dataframe tbody tr th:only-of-type {\n",
       "        vertical-align: middle;\n",
       "    }\n",
       "\n",
       "    .dataframe tbody tr th {\n",
       "        vertical-align: top;\n",
       "    }\n",
       "\n",
       "    .dataframe thead th {\n",
       "        text-align: right;\n",
       "    }\n",
       "</style>\n",
       "<table border=\"1\" class=\"dataframe\">\n",
       "  <thead>\n",
       "    <tr style=\"text-align: right;\">\n",
       "      <th></th>\n",
       "      <th>PATIENT_ID</th>\n",
       "      <th>START_DATE</th>\n",
       "      <th>STOP_DATE</th>\n",
       "      <th>EVENT_TYPE</th>\n",
       "      <th>TREATMENT_TYPE</th>\n",
       "      <th>EVENT_DETAILED</th>\n",
       "      <th>STATUS</th>\n",
       "      <th>THERAPY_ONGOING</th>\n",
       "      <th>EVIDENCE_LEVEL</th>\n",
       "      <th>REASONS_GENETICS</th>\n",
       "      <th>REASONS_MEDICATION</th>\n",
       "      <th>RECOMMENDATION_ORDER_NUMBER</th>\n",
       "    </tr>\n",
       "  </thead>\n",
       "  <tbody>\n",
       "    <tr>\n",
       "      <th>0</th>\n",
       "      <td>8c52a4b0-fae9-4cd3-a4d6-97d850a4076a</td>\n",
       "      <td>30</td>\n",
       "      <td>61</td>\n",
       "      <td>Treatment</td>\n",
       "      <td>Treatment</td>\n",
       "      <td>Bevacizumab</td>\n",
       "      <td>.</td>\n",
       "      <td>NO</td>\n",
       "      <td>.</td>\n",
       "      <td>.</td>\n",
       "      <td>.</td>\n",
       "      <td>.</td>\n",
       "    </tr>\n",
       "    <tr>\n",
       "      <th>1</th>\n",
       "      <td>8c52a4b0-fae9-4cd3-a4d6-97d850a4076a</td>\n",
       "      <td>30</td>\n",
       "      <td>61</td>\n",
       "      <td>Treatment</td>\n",
       "      <td>Treatment</td>\n",
       "      <td>Atezolizumab</td>\n",
       "      <td>.</td>\n",
       "      <td>NO</td>\n",
       "      <td>.</td>\n",
       "      <td>.</td>\n",
       "      <td>.</td>\n",
       "      <td>.</td>\n",
       "    </tr>\n",
       "    <tr>\n",
       "      <th>2</th>\n",
       "      <td>8c52a4b0-fae9-4cd3-a4d6-97d850a4076a</td>\n",
       "      <td>61</td>\n",
       "      <td>61</td>\n",
       "      <td>Surgery</td>\n",
       "      <td>Surgery</td>\n",
       "      <td>cTACE</td>\n",
       "      <td>.</td>\n",
       "      <td>NO</td>\n",
       "      <td>.</td>\n",
       "      <td>.</td>\n",
       "      <td>.</td>\n",
       "      <td>.</td>\n",
       "    </tr>\n",
       "    <tr>\n",
       "      <th>3</th>\n",
       "      <td>523f7133-1710-466e-8e2c-7d1ea78304c3</td>\n",
       "      <td>517</td>\n",
       "      <td>-1065</td>\n",
       "      <td>Status</td>\n",
       "      <td>Status</td>\n",
       "      <td>Initial Diagnosis</td>\n",
       "      <td>Initial Diagnosis</td>\n",
       "      <td>NO</td>\n",
       "      <td>.</td>\n",
       "      <td>.</td>\n",
       "      <td>.</td>\n",
       "      <td>.</td>\n",
       "    </tr>\n",
       "    <tr>\n",
       "      <th>4</th>\n",
       "      <td>523f7133-1710-466e-8e2c-7d1ea78304c3</td>\n",
       "      <td>517</td>\n",
       "      <td>517</td>\n",
       "      <td>Surgery</td>\n",
       "      <td>Surgery</td>\n",
       "      <td>Probenentnahme durch Punktion einer großen Leb...</td>\n",
       "      <td>.</td>\n",
       "      <td>NO</td>\n",
       "      <td>.</td>\n",
       "      <td>.</td>\n",
       "      <td>.</td>\n",
       "      <td>.</td>\n",
       "    </tr>\n",
       "  </tbody>\n",
       "</table>\n",
       "</div>"
      ],
      "text/plain": [
       "                              PATIENT_ID  START_DATE  STOP_DATE EVENT_TYPE  \\\n",
       "0   8c52a4b0-fae9-4cd3-a4d6-97d850a4076a          30         61  Treatment   \n",
       "1   8c52a4b0-fae9-4cd3-a4d6-97d850a4076a          30         61  Treatment   \n",
       "2   8c52a4b0-fae9-4cd3-a4d6-97d850a4076a          61         61    Surgery   \n",
       "3  523f7133-1710-466e-8e2c-7d1ea78304c3          517      -1065     Status   \n",
       "4  523f7133-1710-466e-8e2c-7d1ea78304c3          517        517    Surgery   \n",
       "\n",
       "  TREATMENT_TYPE                                     EVENT_DETAILED  \\\n",
       "0      Treatment                                        Bevacizumab   \n",
       "1      Treatment                                       Atezolizumab   \n",
       "2        Surgery                                              cTACE   \n",
       "3         Status                                  Initial Diagnosis   \n",
       "4        Surgery  Probenentnahme durch Punktion einer großen Leb...   \n",
       "\n",
       "              STATUS THERAPY_ONGOING EVIDENCE_LEVEL REASONS_GENETICS  \\\n",
       "0                  .              NO              .                .   \n",
       "1                  .              NO              .                .   \n",
       "2                  .              NO              .                .   \n",
       "3  Initial Diagnosis              NO              .                .   \n",
       "4                  .              NO              .                .   \n",
       "\n",
       "  REASONS_MEDICATION RECOMMENDATION_ORDER_NUMBER  \n",
       "0                  .                           .  \n",
       "1                  .                           .  \n",
       "2                  .                           .  \n",
       "3                  .                           .  \n",
       "4                  .                           .  "
      ]
     },
     "execution_count": 1044,
     "metadata": {},
     "output_type": "execute_result"
    }
   ],
   "source": [
    "data_status.head()"
   ]
  },
  {
   "cell_type": "code",
   "execution_count": 1045,
   "id": "76659068-78e2-4119-a8f7-22c67cb43f07",
   "metadata": {
    "tags": []
   },
   "outputs": [],
   "source": [
    "#data_status.to_csv('out.csv')"
   ]
  },
  {
   "cell_type": "code",
   "execution_count": 1046,
   "id": "0906cb96-ac69-4f40-8f15-21b1280ff8ff",
   "metadata": {
    "tags": []
   },
   "outputs": [],
   "source": [
    "#data_status=data_status.drop(columns=['Unnamed: 0'])"
   ]
  },
  {
   "cell_type": "code",
   "execution_count": 1047,
   "id": "25f44396-84fc-496f-b06e-8cc22ae42511",
   "metadata": {
    "tags": []
   },
   "outputs": [],
   "source": [
    "data_status['STOP_DATE'] = data_status['STOP_DATE'].fillna(0)"
   ]
  },
  {
   "cell_type": "code",
   "execution_count": 1048,
   "id": "f20cb1d3-1122-407d-ad8d-be4c0a27a437",
   "metadata": {
    "tags": []
   },
   "outputs": [],
   "source": [
    "data_status['STOP_DATE'] = data_status['STOP_DATE'].astype(int)"
   ]
  },
  {
   "cell_type": "code",
   "execution_count": 1049,
   "id": "b11c67b3-fee5-450a-89b7-1d5d5ba95b47",
   "metadata": {
    "tags": []
   },
   "outputs": [
    {
     "name": "stdout",
     "output_type": "stream",
     "text": [
      "Data_status after appending new rows:\n",
      "                                PATIENT_ID  START_DATE  STOP_DATE  \\\n",
      "90   3aa1c7fb-90b5-43e2-bc3f-68ed471af187           0          0   \n",
      "91  ddf29229-8b1c-48df-bdd9-d97c6896d365            0          0   \n",
      "92   fdfc3b53-617a-4ac1-b4d6-91d5b249bb90           0          0   \n",
      "93   fdfc3b53-617a-4ac1-b4d6-91d5b249bb90           0          0   \n",
      "94   fdfc3b53-617a-4ac1-b4d6-91d5b249bb90           0          0   \n",
      "\n",
      "        EVENT_TYPE TREATMENT_TYPE          EVENT_DETAILED STATUS  \\\n",
      "90  Recommendation      Treatment  Trastuzumab deruxtecan      .   \n",
      "91  Recommendation      Treatment                Olaparib      .   \n",
      "92  Recommendation      Treatment       Gem-nabPaclitaxel      .   \n",
      "93  Recommendation      Treatment                  LV5FU2      .   \n",
      "94  Recommendation      Treatment              Gemcitabin      .   \n",
      "\n",
      "   THERAPY_ONGOING       EVIDENCE_LEVEL REASONS_GENETICS REASONS_MEDICATION  \\\n",
      "90              NO  Off-Label Treatment       ERBB2 (SNV       Trastuzumab    \n",
      "91              NO            Off-Label       ERBB2 (SNV        Trastuzumab   \n",
      "92              NO            Leitlinie      ARID1A (SNV      Pembrolizumab   \n",
      "93              NO            Leitlinie       BRCA2 (SNV           Olaparib   \n",
      "94              NO            Off-Label        KRAS (SNV        Cobimetinib   \n",
      "\n",
      "   RECOMMENDATION_ORDER_NUMBER  \n",
      "90                           1  \n",
      "91                           2  \n",
      "92                           1  \n",
      "93                           2  \n",
      "94                           3  \n"
     ]
    }
   ],
   "source": [
    "print(\"Data_status after appending new rows:\\n\", data_status.tail())"
   ]
  },
  {
   "cell_type": "markdown",
   "id": "da6efc28-ad62-4ace-9b19-3367cce45fbc",
   "metadata": {
    "tags": []
   },
   "source": [
    "## Generation 'meta' and 'TXT' files"
   ]
  },
  {
   "cell_type": "code",
   "execution_count": 1050,
   "id": "592556bb-15a7-483e-815a-660706d45bb2",
   "metadata": {
    "tags": []
   },
   "outputs": [],
   "source": [
    "current_dir = os.getcwd()\n",
    "\n",
    "folder_path = os.path.join(current_dir, 'output_study')\n",
    "#folder_path = 'my_data_folder'\n",
    "folder_path_ = os.path.join(current_dir+\"/output_study\", 'case_lists')\n",
    "# Create the folder if it doesn't already exist\n",
    "os.makedirs(folder_path_, exist_ok=True)"
   ]
  },
  {
   "cell_type": "markdown",
   "id": "c8ea0e06-1769-4c44-b4d5-e3ddba99c2ff",
   "metadata": {},
   "source": [
    "### 'meta_study.txt'"
   ]
  },
  {
   "cell_type": "code",
   "execution_count": 1051,
   "id": "7c8bca64-f97c-4c2f-bca7-368e196f2f10",
   "metadata": {
    "tags": []
   },
   "outputs": [
    {
     "name": "stdout",
     "output_type": "stream",
     "text": [
      "File created at: /Users/valeriya.vishnevskaya/cg-on-fhir/output_study/meta_study.txt\n"
     ]
    }
   ],
   "source": [
    "os.makedirs(folder_path, exist_ok=True)\n",
    "\n",
    "file_path = os.path.join(folder_path, 'meta_study.txt')\n",
    "meta_study = {\n",
    "    'cancer_study_identifier:': ['data_export_study'],\n",
    "    'type_of_cancer:': ['mixed'],\n",
    "    'name:': ['Data export study'],\n",
    "    'description:': ['Analysis export csv files'],\n",
    "    'groups:': ['PUBLIC'],\n",
    "    'add_global_case_list:': ['true']\n",
    "}\n",
    "\n",
    "# Write the content to the specified file path\n",
    "with open(file_path, 'w') as f:\n",
    "    for key, value in meta_study.items():\n",
    "        f.write(f\"{key}\\t{value[0]}\\n\")\n",
    "\n",
    "print(f\"File created at: {file_path}\")"
   ]
  },
  {
   "cell_type": "markdown",
   "id": "d4aa1868-8242-44a2-9a60-0c5ba359a9fb",
   "metadata": {},
   "source": [
    "### 'meta_clinical_patient.txt'"
   ]
  },
  {
   "cell_type": "code",
   "execution_count": 1052,
   "id": "c19e7e64-8d96-4aaa-94a5-66856d356d3e",
   "metadata": {
    "tags": []
   },
   "outputs": [
    {
     "name": "stdout",
     "output_type": "stream",
     "text": [
      "File created at: /Users/valeriya.vishnevskaya/cg-on-fhir/output_study/meta_clinical_patient.txt\n"
     ]
    }
   ],
   "source": [
    "file_path = os.path.join(folder_path, 'meta_clinical_patient.txt')\n",
    "meta_clinical_patient = {\n",
    "    'cancer_study_identifier:': ['data_export_study'],\n",
    "    'genetic_alteration_type:': ['CLINICAL'],\n",
    "    'datatype:': ['PATIENT_ATTRIBUTES'],\n",
    "    'data_filename:': ['data_clinical_patient.txt'],\n",
    "}\n",
    "\n",
    "with open(file_path, 'w') as f:\n",
    "    for key, value in meta_clinical_patient.items():\n",
    "        f.write(f\"{key}\\t{value[0]}\\n\")\n",
    "print(f\"File created at: {file_path}\")"
   ]
  },
  {
   "cell_type": "markdown",
   "id": "8e0983f6-88c5-4939-bf09-e5b0c62814d0",
   "metadata": {},
   "source": [
    "### 'meta_clinical_sample.txt'"
   ]
  },
  {
   "cell_type": "code",
   "execution_count": 1053,
   "id": "cfad3ff7-aaed-49b7-bee9-926468d86a33",
   "metadata": {
    "tags": []
   },
   "outputs": [
    {
     "name": "stdout",
     "output_type": "stream",
     "text": [
      "File created at: /Users/valeriya.vishnevskaya/cg-on-fhir/output_study/meta_clinical_sample.txt\n"
     ]
    }
   ],
   "source": [
    "file_path = os.path.join(folder_path, 'meta_clinical_sample.txt')\n",
    "meta_clinical_sample = {\n",
    "    'cancer_study_identifier:': ['data_export_study'],\n",
    "    'genetic_alteration_type:': ['CLINICAL'],\n",
    "    'datatype:': ['SAMPLE_ATTRIBUTES'],\n",
    "    'data_filename:': ['data_clinical_sample.txt'],\n",
    "}\n",
    "\n",
    "with open(file_path, 'w') as f:\n",
    "    for key, value in meta_clinical_sample.items():\n",
    "        f.write(f\"{key}\\t{value[0]}\\n\")\n",
    "print(f\"File created at: {file_path}\")"
   ]
  },
  {
   "cell_type": "markdown",
   "id": "91ab4241-5a12-422a-a169-90a6b3ad0d20",
   "metadata": {},
   "source": [
    "### 'meta_mutations.txt'"
   ]
  },
  {
   "cell_type": "code",
   "execution_count": 1054,
   "id": "83a793dc-c498-490e-bc69-9d7a1fde58ae",
   "metadata": {
    "tags": []
   },
   "outputs": [
    {
     "name": "stdout",
     "output_type": "stream",
     "text": [
      "File created at: /Users/valeriya.vishnevskaya/cg-on-fhir/output_study/meta_mutations.txt\n"
     ]
    }
   ],
   "source": [
    "file_path = os.path.join(folder_path, 'meta_mutations.txt')\n",
    "meta_mutations = {\n",
    "    'cancer_study_identifier:': ['data_export_study'],\n",
    "    'genetic_alteration_type:': ['MUTATION_EXTENDED'],\n",
    "    'datatype:': ['MAF'],\n",
    "    'stable_id:': ['mutations'],\n",
    "    'show_profile_in_analysis_tab:': ['true'],\n",
    "    'profile_description:': ['Mutation data from export csv files'],\n",
    "    'profile_name:': ['Mutations'],\n",
    "    'data_filename:': ['data_mutations.txt'],\n",
    "   \n",
    "}\n",
    "\n",
    "with open(file_path, 'w') as f:\n",
    "    for key, value in meta_mutations.items():\n",
    "        f.write(f\"{key}\\t{value[0]}\\n\")\n",
    "print(f\"File created at: {file_path}\")"
   ]
  },
  {
   "cell_type": "markdown",
   "id": "b8e9b96b-80b7-474b-8603-b0fc8c207832",
   "metadata": {},
   "source": [
    "### 'meta_timeline_status.txt'"
   ]
  },
  {
   "cell_type": "code",
   "execution_count": 1055,
   "id": "2ed73a3e-45e0-40b6-9dd1-f1bef8dfac0d",
   "metadata": {
    "tags": []
   },
   "outputs": [
    {
     "name": "stdout",
     "output_type": "stream",
     "text": [
      "File created at: /Users/valeriya.vishnevskaya/cg-on-fhir/output_study/meta_timeline_status.txt\n"
     ]
    }
   ],
   "source": [
    "file_path = os.path.join(folder_path, 'meta_timeline_status.txt')\n",
    "meta_timeline_status = {\n",
    "    'cancer_study_identifier:': ['data_export_study'],\n",
    "    'genetic_alteration_type:': ['CLINICAL'],\n",
    "    'datatype:': ['TIMELINE'],\n",
    "    'data_filename:': ['data_timeline_status.txt']\n",
    "   \n",
    "}\n",
    "\n",
    "with open(file_path, 'w') as f:\n",
    "    for key, value in meta_timeline_status.items():\n",
    "        f.write(f\"{key}\\t{value[0]}\\n\")\n",
    "print(f\"File created at: {file_path}\")  "
   ]
  },
  {
   "cell_type": "markdown",
   "id": "5d15d2ed-2900-4003-88e7-61bda5202a55",
   "metadata": {
    "tags": []
   },
   "source": [
    "### Case lists"
   ]
  },
  {
   "cell_type": "code",
   "execution_count": 1056,
   "id": "197326cd-c3d2-4eb3-a5d3-39a7a8a1789e",
   "metadata": {
    "tags": []
   },
   "outputs": [],
   "source": [
    "samples_number = data_sample['SAMPLE_ID'].nunique()"
   ]
  },
  {
   "cell_type": "code",
   "execution_count": 1057,
   "id": "cea66cc4-9490-41c4-bf94-0db42d3e57c2",
   "metadata": {
    "tags": []
   },
   "outputs": [],
   "source": [
    "sample_ids_str = '\\t'.join(data_sample['SAMPLE_ID'].tolist())"
   ]
  },
  {
   "cell_type": "markdown",
   "id": "6b58a21b-39f0-4f85-af7d-91755d0f9356",
   "metadata": {},
   "source": [
    "### 'cases_all.txt'"
   ]
  },
  {
   "cell_type": "code",
   "execution_count": 1058,
   "id": "c617799f-78b9-4237-9d10-d2863b9ba3bc",
   "metadata": {
    "tags": []
   },
   "outputs": [
    {
     "name": "stdout",
     "output_type": "stream",
     "text": [
      "File created at: /Users/valeriya.vishnevskaya/cg-on-fhir/output_study/case_lists/cases_all.txt\n"
     ]
    }
   ],
   "source": [
    "file_path = os.path.join(folder_path_, 'cases_all.txt')\n",
    "cases_all = {\n",
    "    'cancer_study_identifier:': ['data_export_study'],\n",
    "    'stable_id:': ['data_export_study_all'],\n",
    "    'case_list_name:': ['All samples'],\n",
    "    'case_list_description:': [f\"All samples ({samples_number} samples)\"],\n",
    "    'case_list_category:': ['all_cases_in_study'],\n",
    "    'case_list_ids:': [sample_ids_str]\n",
    "   \n",
    "}\n",
    "\n",
    "with open(file_path, 'w') as f:\n",
    "    for key, value in cases_all.items():\n",
    "        f.write(f\"{key}\\t{value[0]}\\n\")\n",
    "print(f\"File created at: {file_path}\")  "
   ]
  },
  {
   "cell_type": "markdown",
   "id": "9e50ecca-cbea-4da3-a40d-e46b9a703c6f",
   "metadata": {},
   "source": [
    "### 'cases_sequenced.txt'"
   ]
  },
  {
   "cell_type": "code",
   "execution_count": 1059,
   "id": "27d3121f-03a0-4a62-9a09-7080d2521cc9",
   "metadata": {
    "tags": []
   },
   "outputs": [
    {
     "name": "stdout",
     "output_type": "stream",
     "text": [
      "File created at: /Users/valeriya.vishnevskaya/cg-on-fhir/output_study/case_lists/cases_sequenced.txt\n"
     ]
    }
   ],
   "source": [
    "file_path = os.path.join(folder_path_, 'cases_sequenced.txt')\n",
    "cases_sequenced= {\n",
    "    'cancer_study_identifier:': ['data_export_study'],\n",
    "    'stable_id:': ['data_export_study_sequenced'],\n",
    "    'case_list_name:': ['Samples with mutation data'],\n",
    "    'case_list_description:': [f\"Samples with mutation data ({samples_number} samples)\"],\n",
    "    'case_list_category:': ['all_cases_with_mutation_data'],\n",
    "    'case_list_ids:': [sample_ids_str]\n",
    "   \n",
    "}\n",
    "\n",
    "with open(file_path, 'w') as f:\n",
    "    for key, value in cases_sequenced.items():\n",
    "        f.write(f\"{key}\\t{value[0]}\\n\")\n",
    "print(f\"File created at: {file_path}\") "
   ]
  },
  {
   "cell_type": "code",
   "execution_count": 1060,
   "id": "59e80787-d5d6-4584-b578-94b79690f85a",
   "metadata": {
    "tags": []
   },
   "outputs": [],
   "source": [
    "# Dictionary for cBioPortal headers for patient and sample data \n",
    "header_lines_patient = {\n",
    "    \"PATIENT_ID\": \"#Unique Patient Identifier\",            \n",
    "    \"AGE\": 'Age of the patient',                         \n",
    "    \"GENDER\": \"Gender of the patient\",\n",
    "    'INDICATION': 'Patient disease history',\n",
    "    \"DIAGNOSIS_DATE\": \"Date of initial diagnosis in YYYY-MM-DD format\",\n",
    "    'ICD_10': 'ICD 10 Classification',\n",
    "    'OS_MONTHS': 'Overall survival months',\n",
    "    'OS_STATUS': 'Overall survival status',\n",
    "    \"DSS_STATUS\": \"Disease status\",    \n",
    "    \"UICC\": \"Stage to define the anatomical extent of disease\",           \n",
    "}\n",
    "\n",
    "header_lines_sample = { \n",
    "    \"PATIENT_ID\": \"#Unique Patient Identifier\", \n",
    "    \"SAMPLE_ID\": 'Unique Sample Identifier',\n",
    "    'CANCER_TYPE': \"Cancer type\",\n",
    "    'TISSUE_SOURCE_SITE': \"Tissue source site\",\n",
    "    'TUMOR_TISSUE': \"Tumor tissue size\",\n",
    "    'TUMOR_MOLECULAR_SUBTYPE':\"Tumor molecular subtype\",\n",
    "    'TMB': \"TMB\",\n",
    "    'HRD':\"HRD\",\n",
    "    'T':\"T\",\n",
    "    'N':\"N\",\n",
    "    'M':\"M\",\n",
    "    'ECOG':\"ECOG\",\n",
    "    'HER2': \"HER2\",\n",
    "    'EBV':\"EBV\",\n",
    "    'HPV':\"HPV\",\n",
    "    'PDL1': \"PDL1\",\n",
    "    'PR':\"PR\",\n",
    "    'ER': \"ER\",\n",
    "    'MSI':\"MSI\",\n",
    "    'GERMLINE_MUTATION': \"Exist germline mutation or not\" \n",
    "}\n",
    "\n",
    "header_lines_recommendations={\n",
    "    \"PATIENT_ID\": \"#Patient id\",\n",
    "    \"RECOMMENDATION_ORDER_NUMBER\": \"Order number of treatment recommendations\",\n",
    "    \"MEDICATION_CODE\":\"Medications code\",\n",
    "    \"RECOMMENDED_MEDICATION\": \"Recommended medication\",\n",
    "    \"DISEASE_STATUS_CODE\": \"Disease status code\",\n",
    "    \"DISEASE_STATUS\": \"Disease status\",\n",
    "    \"CATEGORY\": \"Evidence level group\",\n",
    "    \"EVIDENCE_LEVEL\": \"Evidence level\",\n",
    "    \"EVIDENCE_CODE\": \"Evidence level code\",\n",
    "    \"EVIDENCE_LEVEL_DETAILED\": \"Detailed evidence level\",\n",
    "    \"REASON_ID\": \"Reason id\",\n",
    "    \"REASONS_MEDICATION\": \"Medication reason rull\",\n",
    "    \"REASONS_OTHER\": \"Other column from reason\", \n",
    "    \"REASONS_GENETICS\": \"Genetics reasons for recommended medication\",\n",
    "    \"REASONS_COMMENTS\": \"Physicians comments about reasons\" \n",
    "}\n"
   ]
  },
  {
   "cell_type": "code",
   "execution_count": 1061,
   "id": "93bcceec-dd10-46fd-aad1-e823fa0c608d",
   "metadata": {
    "tags": []
   },
   "outputs": [],
   "source": [
    "data_patient = data_patient.replace('\"', '', regex=True)"
   ]
  },
  {
   "cell_type": "markdown",
   "id": "8788da25-628e-481c-a27a-804c76961912",
   "metadata": {},
   "source": [
    "### 'data_clinical_sample.txt'"
   ]
  },
  {
   "cell_type": "code",
   "execution_count": 1062,
   "id": "aa5b32dc-abda-4037-ba7c-51d62ac025b2",
   "metadata": {
    "tags": []
   },
   "outputs": [
    {
     "name": "stdout",
     "output_type": "stream",
     "text": [
      "File created at: /Users/valeriya.vishnevskaya/cg-on-fhir/output_study/data_clinical_sample.txt\n"
     ]
    }
   ],
   "source": [
    "os.makedirs(folder_path, exist_ok=True)\n",
    "file_path = os.path.join(folder_path, 'data_clinical_sample.txt')\n",
    "\n",
    "header_lines_sample = { \n",
    "    \"#PATIENT_ID\": \"#Unique Patient Identifier\", \n",
    "    \"SAMPLE_ID\": 'Unique Sample Identifier',\n",
    "    'CANCER_TYPE': \"Cancer type\",\n",
    "    'TISSUE_SOURCE_SITE': \"Tissue source site\",\n",
    "    'TUMOR_TISSUE': \"Tumor tissue size\",\n",
    "    'TUMOR_MOLECULAR_SUBTYPE':\"Tumor molecular subtype\",\n",
    "    'TMB': \"TMB\",\n",
    "    'HRD':\"HRD\",\n",
    "    'T':\"T\",\n",
    "    'N':\"N\",\n",
    "    'M':\"M\",\n",
    "    'ECOG':\"ECOG\",\n",
    "    'HER2': \"HER2\",\n",
    "    'EBV':\"EBV\",\n",
    "    'HPV':\"HPV\",\n",
    "    'PDL1': \"PDL1\",\n",
    "    'PR':\"PR\",\n",
    "    'ER': \"ER\",\n",
    "    'MSI':\"MSI\",\n",
    "    'GERMLINE_MUTATION': \"Exist germline mutation or not\" \n",
    "}\n",
    "\n",
    "column_names = list(header_lines_sample.keys())\n",
    "first_header = '\\t'.join(column_names)\n",
    "second_header = '\\t'.join(header_lines_sample.values())\n",
    "third_header = '#STRING' + '\\t' + '\\t'.join(['STRING'] * (len(column_names) - 1))\n",
    "fourth_header = '#1' + '\\t' + '\\t'.join(['1'] * (len(column_names) - 1))\n",
    "\n",
    "# Combine all header rows\n",
    "header_lines = [first_header, second_header, third_header, fourth_header]\n",
    "\n",
    "with open(file_path, 'w') as f:\n",
    "    # Write the header lines\n",
    "    for line in header_lines:\n",
    "        f.write(line + \"\\n\")\n",
    "    data_sample.to_csv(f, sep='\\t', index=False)\n",
    "print(f\"File created at: {file_path}\")     "
   ]
  },
  {
   "cell_type": "markdown",
   "id": "73441360-7e55-455f-ba32-96551a2ee831",
   "metadata": {},
   "source": [
    "### 'data_clinical_patient.txt'"
   ]
  },
  {
   "cell_type": "code",
   "execution_count": 1063,
   "id": "b40c091f-952a-4557-850d-11b5d16be13a",
   "metadata": {
    "tags": []
   },
   "outputs": [
    {
     "name": "stdout",
     "output_type": "stream",
     "text": [
      "File created at: /Users/valeriya.vishnevskaya/cg-on-fhir/output_study/data_clinical_patient.txt\n"
     ]
    }
   ],
   "source": [
    "os.makedirs(folder_path, exist_ok=True)\n",
    "file_path = os.path.join(folder_path, 'data_clinical_patient.txt')\n",
    "\n",
    "header_lines_patient = {\n",
    "    \"#PATIENT_ID\": \"#Unique Patient Identifier\",            \n",
    "    \"AGE\": 'Age of the patient',                         \n",
    "    \"GENDER\": \"Gender of the patient\",\n",
    "    'INDICATION': 'Patient disease history',\n",
    "    \"DIAGNOSIS_DATE\": \"Date of initial diagnosis in YYYY-MM-DD format\",\n",
    "    \"ICD_10\": \"ICD 10 Classification\",\n",
    "    \"OS_MONTHS\": \"Overall survival months\",\n",
    "    \"OS_STATUS\": \"Overall survival status\",\n",
    "    \"DSS_STATUS\": \"Disease status\",    \n",
    "    \"UICC\": \"Stage to define the anatomical extent of disease\",\n",
    "    \"DFS_MONTHS\": \"DFS_MONTHS\",\n",
    "    \"DFS_STATUS\":\"DFS_STATUS\"\n",
    "}\n",
    "number_columns = {'AGE', 'OS_MONTHS','DFS_MONTHS'}\n",
    "column_names = list(header_lines_patient.keys())\n",
    "first_header = '\\t'.join(column_names)\n",
    "second_header = '\\t'.join(header_lines_patient.values())\n",
    "third_header = '#STRING' + '\\t' + '\\t'.join(\n",
    "    ['NUMBER' if col in number_columns else 'STRING' for col in column_names[1:]]\n",
    ")\n",
    "fourth_header = '#1' + '\\t' + '\\t'.join(['1'] * (len(column_names) - 1))\n",
    "\n",
    "# Combine all header rows\n",
    "header_lines = [first_header, second_header, third_header, fourth_header]\n",
    "\n",
    "with open(file_path, 'w') as f:\n",
    "    # Write the header lines\n",
    "    for line in header_lines:\n",
    "        f.write(line + \"\\n\")\n",
    "    data_patient.to_csv(f, sep='\\t', index=False)\n",
    "print(f\"File created at: {file_path}\")  "
   ]
  },
  {
   "cell_type": "markdown",
   "id": "b58a79d7-7eb8-4c1c-adcf-a3a3013280c8",
   "metadata": {},
   "source": [
    "### 'data_mutations.txt'"
   ]
  },
  {
   "cell_type": "code",
   "execution_count": 1064,
   "id": "220a2d1c-96cb-4a01-883b-b66a1a2306fb",
   "metadata": {
    "tags": []
   },
   "outputs": [
    {
     "name": "stdout",
     "output_type": "stream",
     "text": [
      "File created at: /Users/valeriya.vishnevskaya/cg-on-fhir/output_study/data_mutations.txt\n"
     ]
    }
   ],
   "source": [
    "os.makedirs(folder_path, exist_ok=True)\n",
    "file_path = os.path.join(folder_path, 'data_mutations.txt')\n",
    "\n",
    "# Write to a tab-separated .txt file\n",
    "with open(file_path, 'w') as f:\n",
    "    \n",
    "    # Save the DataFrame as tab-separated values\n",
    "    data_mutations.to_csv(f, sep='\\t', index=False)\n",
    "print(f\"File created at: {file_path}\")  "
   ]
  },
  {
   "cell_type": "markdown",
   "id": "255ce2a3-dbf5-42c2-9c70-e939ddd6445d",
   "metadata": {},
   "source": [
    "### 'data_timeline_status.txt'"
   ]
  },
  {
   "cell_type": "code",
   "execution_count": 1065,
   "id": "884ca2e3-28b3-448f-bf8b-b75a51c5045f",
   "metadata": {
    "tags": []
   },
   "outputs": [
    {
     "name": "stdout",
     "output_type": "stream",
     "text": [
      "File created at: /Users/valeriya.vishnevskaya/cg-on-fhir/output_study/data_timeline_status.txt\n"
     ]
    }
   ],
   "source": [
    "os.makedirs(folder_path, exist_ok=True)\n",
    "file_path = os.path.join(folder_path, 'data_timeline_status.txt')\n",
    "\n",
    "# Write to a tab-separated .txt file\n",
    "with open(file_path, 'w') as f:\n",
    "    \n",
    "    # Save the DataFrame as tab-separated values\n",
    "    data_status.to_csv(f, sep='\\t', index=False)\n",
    "print(f\"File created at: {file_path}\") "
   ]
  },
  {
   "cell_type": "markdown",
   "id": "bbcffc84-62c5-4a51-9acb-7b7a289e9aba",
   "metadata": {
    "tags": []
   },
   "source": [
    "## 📈 Section 6: Validation & Upload to cBioPortal\n",
    "- `Use cBioPortal's validation scripts to validate data before import` :-   ./validateData.py --help\n",
    "https://docs.cbioportal.org/using-the-dataset-validator/\n",
    "- `Use cBioPortal's import study sctipts to import study to cBioPortal` :-  ./cbioportalImporter.py -s <path to study directory>\n",
    "https://docs.cbioportal.org/data-loading-maintaining-studies/\n",
    "\n",
    "<center>\n",
    "    <img src=\"images/cbioportal.png\" width=1200/>\n",
    "</center>\n",
    "\n",
    "## 🧪 Section 7: Data Quality & Challenges\n",
    "1. Handle incomplete genomic info.\n",
    "2. Hard to create Longitudinal data timeline representation. Cbioportal timeline needs convertation of all dates in days.\n",
    "3. Date parsing edge cases: Inconsistent or partial date formats may silently fail (e.g., NaT)\n",
    "4. Missing values: Some fields (Mutation_status, Start/End_Date) are filled with placeholders (.) and may trigger warnings in validation\n",
    "5. Column misalignment: Ensure all required headers and values match cBioPortal schemas exactly\n",
    "6. ID consistency: PATIENT_ID must match across all files (sample, mutations, events)\n",
    "7. Data integrity: Check for duplicated or missing rows after concat() operations    \n",
    "\n",
    "## 📚 References\n",
    "- 'HL7 Clinical Genomics IG' https://build.fhir.org/ig/HL7/genomics-reporting/index.html\n",
    "- 'MAF File Format' https://docs.gdc.cancer.gov/Data/File_Formats/MAF_Format/\n",
    "- 'cBioPortal User Guide' https://docs.cbioportal.org/user-guide/\n",
    "- 'LOINC Codes: 81258-6, 48005-3, 51958-7'ect."
   ]
  }
 ],
 "metadata": {
  "kernelspec": {
   "display_name": "base",
   "language": "python",
   "name": "python3"
  },
  "language_info": {
   "codemirror_mode": {
    "name": "ipython",
    "version": 3
   },
   "file_extension": ".py",
   "mimetype": "text/x-python",
   "name": "python",
   "nbconvert_exporter": "python",
   "pygments_lexer": "ipython3",
   "version": "3.12.7"
  }
 },
 "nbformat": 4,
 "nbformat_minor": 5
}
